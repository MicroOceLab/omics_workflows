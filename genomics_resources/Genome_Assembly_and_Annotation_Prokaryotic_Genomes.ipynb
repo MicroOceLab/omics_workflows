{
 "cells": [
  {
   "cell_type": "markdown",
   "metadata": {},
   "source": [
    "# Genome Assembly and Annotation Workflow\n",
    "\n",
    "This notebook describes a workflow on assembling and annotating a prokaryotic genome, starting from raw paired-end reads. This includes (1) a quality control step using Trimmomatic and FastQC, (2) assembly using SPAdes, (3) assembly evaluation using QUAST, and (5) annotation using Prokka.\n",
    "\n",
    "The workflow described here is primarily used for the assembly and annotation of prokaryotic genomes. SPAdes was initially built for the assembly of bacterial genomes, however, later on it optimized for small eukaryotic genomes as well. However, Prokka was specifically built for the annotation of bacterial, archaeal, and viral genomes."
   ]
  },
  {
   "cell_type": "markdown",
   "metadata": {},
   "source": [
    "---\n",
    "## <font color ='blue'>How to Use This Notebook</font></h2>\n",
    "\n",
    "1. Open jupyter notebook with the command below and select the notebook.\n",
    ">`jupyter-notebook`\n",
    "2. To run the cells in this notebook, press Shift+Enter."
   ]
  },
  {
   "cell_type": "markdown",
   "metadata": {},
   "source": [
    "---\n",
    "## Tools Used\n",
    "1. <b>FastQC v0.11.9</b> for quality checking.\n",
    "2. <b>Trimmomatic v0.39</b> for filtering and trimming reads.\n",
    "3. <b>SPAdes v3.15.4</b> for genome assembly.\n",
    "4. <b>QUAST v5.2.0</b> for assembly evaluation.\n",
    "5. <b>Prokka v1.14.6</b> for determining coding regions and their identities."
   ]
  },
  {
   "cell_type": "markdown",
   "metadata": {},
   "source": [
    "---\n",
    "## Starting Files\n",
    "\n",
    "1. This Jupyter notebook.\n",
    "2. Directories for organizing the data. To make the folders, run the following code block:"
   ]
  },
  {
   "cell_type": "code",
   "execution_count": null,
   "metadata": {},
   "outputs": [],
   "source": [
    "!mkdir genome_assembly_and_annot_demo_folder\n",
    "%cd genome_assembly_and_annot_demo_folder\n",
    "!mkdir \\\n",
    "0-raw-reads \\\n",
    "1-fastqc \\\n",
    "2-trimmomatic \\\n",
    "3-spades \\\n",
    "4-quast \\\n",
    "5-prokka"
   ]
  },
  {
   "cell_type": "markdown",
   "metadata": {},
   "source": [
    "---\n",
    "## Acknowledgement\n",
    "The data used for this demonstration is from a Pseudomonas sp. B10 isolate by <a href=\"https://journals.asm.org/doi/10.1128/MRA.00237-19\">Leon-Zayas et al. (2019).</a> The SRA accession ID of the data used is SRR8835125:\n",
    "\n",
    "<i>León-Zayas, R., Roberts, C., Vague, M., & Mellies, J. L. (2019). Draft genome sequences of five environmental bacterial isolates that degrade polyethylene terephthalate plastic. Microbiology Resource Announcements, 8(25), e00237-19.</i>"
   ]
  },
  {
   "cell_type": "markdown",
   "metadata": {},
   "source": [
    "---\n",
    "## Table of Contents\n",
    " * [**Step 1: Downloading Demo Data**](#Step-1:-Downloading-Demo-Data)  \n",
    " * [**Step 2: Initial Checking of Reads**](#Step-1:-Initial-Checking-of-Reads)  \n",
    " * [**Step 3: Trimming and Filtering**](#Step-2:-Trimming-and-Filtering)  \n",
    "     * [Running Trimmomatic](#Running-Trimmomatic)\n",
    "     * [Post-Trimmomatic QC](#Post-Trimmomatic-QC)\n",
    " * [**Step 4: Assembly**](#Step-3:-Assembly)\n",
    "     * [SPAdes: Default](#SPAdes:-Default)\n",
    "     * [SPAdes: --careful](#SPAdes:---careful)\n",
    "     * [SPAdes: --isolate](#SPAdes:---isolate)\n",
    " * [**Step 5: Assembly Checking**](#Step-4:-Assembly-Checking)\n",
    " * [**Step 6: Annotation**](#Step-5:-Annotation)\n",
    "---"
   ]
  },
  {
   "cell_type": "markdown",
   "metadata": {},
   "source": [
    "# <font color = 'gray'>Step 1: Downloading Demo Data</font>"
   ]
  },
  {
   "cell_type": "code",
   "execution_count": null,
   "metadata": {},
   "outputs": [],
   "source": [
    "!wget -O 0-raw-reads/forward.fastq.gz ftp://ftp.sra.ebi.ac.uk/vol1/fastq/SRR883/005/SRR8835125/SRR8835125_1.fastq.gz\n",
    "!wget -O 0-raw-reads/reverse.fastq.gz ftp://ftp.sra.ebi.ac.uk/vol1/fastq/SRR883/005/SRR8835125/SRR8835125_2.fastq.gz"
   ]
  },
  {
   "cell_type": "markdown",
   "metadata": {},
   "source": [
    "---\n",
    "# <font color = 'gray'>Step 2: Initial Checking of Reads</font>"
   ]
  },
  {
   "cell_type": "markdown",
   "metadata": {},
   "source": [
    "First, we have to check the quality of the raw reads to assess if sequencing errors may be present and to decide how the reads should be trimmed."
   ]
  },
  {
   "cell_type": "code",
   "execution_count": null,
   "metadata": {},
   "outputs": [],
   "source": [
    "#Generate the fastqc reports\n",
    "!fastqc \\\n",
    "    -o 1-fastqc/ \\\n",
    "    0-raw-reads/*"
   ]
  },
  {
   "cell_type": "code",
   "execution_count": null,
   "metadata": {},
   "outputs": [],
   "source": [
    "#View the fastqc reports\n",
    "import webbrowser\n",
    "webbrowser.open('1-fastqc/forward_fastqc.html', new=2)\n",
    "webbrowser.open('1-fastqc/reverse_fastqc.html', new=2)"
   ]
  },
  {
   "cell_type": "markdown",
   "metadata": {},
   "source": [
    "---\n",
    "# <font color = 'gray'>Step 3: Trimming and Filtering</font>"
   ]
  },
  {
   "cell_type": "markdown",
   "metadata": {},
   "source": [
    "### Running Trimmomatic\n",
    "\n",
    "Next, based on the fastqc reports, trim the reads accordingly. Check the printed terminal window output of Trimmomatic to see how many paired reads are left after filtering. If you think you're losing too many reads on your own data, try to be a bit more lenient with your trimming and filtering parameters."
   ]
  },
  {
   "cell_type": "code",
   "execution_count": null,
   "metadata": {},
   "outputs": [],
   "source": [
    "!trimmomatic PE \\\n",
    "    0-raw-reads/forward.fastq.gz \\\n",
    "    0-raw-reads/reverse.fastq.gz \\\n",
    "    2-trimmomatic/ofp.fastq \\\n",
    "    2-trimmomatic/ofu.fastq \\\n",
    "    2-trimmomatic/orp.fastq \\\n",
    "    2-trimmomatic/oru.fastq \\\n",
    "    LEADING:30 \\\n",
    "    TRAILING:30 \\\n",
    "    SLIDINGWINDOW:5:18 \\\n",
    "    MINLEN:75\n",
    "                    \n",
    "#Abbreviations:\n",
    "#     ofp = output forward paired\n",
    "#     ofu = output forward unpaired\n",
    "#     orp = output reverse paired\n",
    "#     oru = output reverse unpaired"
   ]
  },
  {
   "cell_type": "markdown",
   "metadata": {},
   "source": [
    "### Post-Trimmomatic QC\n",
    "\n",
    "Finally, check the quality of the trimmed and filtered reads and decide whether this is acceptable for your downstream steps."
   ]
  },
  {
   "cell_type": "code",
   "execution_count": null,
   "metadata": {},
   "outputs": [],
   "source": [
    "#Generate the fastqc reports for the trimmed and filtered reads\n",
    "!fastqc \\\n",
    "    -o 1-fastqc/ \\\n",
    "    -t 2 \\\n",
    "    2-trimmomatic/ofp.fastq \\\n",
    "    2-trimmomatic/orp.fastq"
   ]
  },
  {
   "cell_type": "code",
   "execution_count": null,
   "metadata": {},
   "outputs": [],
   "source": [
    "#View fastqc reports\n",
    "import webbrowser\n",
    "webbrowser.open('1-fastqc/ofp_fastqc.html', new=2)\n",
    "webbrowser.open('1-fastqc/orp_fastqc.html', new=2)"
   ]
  },
  {
   "cell_type": "markdown",
   "metadata": {},
   "source": [
    "---\n",
    "# <font color = 'gray'>Step 4: Assembly</font>"
   ]
  },
  {
   "cell_type": "markdown",
   "metadata": {},
   "source": [
    "Not one assembler or assembly parameters will yield the \"best\" assembly for all. Hence, for the next steps, we will generate different assemblies using different modes in SPAdes.\n",
    "\n",
    "Note that these steps may take a while (~30 minutes on an i5 10th gen processor). If you want to skip these steps, please copy the relevant files on the sample data folder to the demo folder."
   ]
  },
  {
   "cell_type": "markdown",
   "metadata": {},
   "source": [
    "### SPAdes: Default"
   ]
  },
  {
   "cell_type": "code",
   "execution_count": null,
   "metadata": {},
   "outputs": [],
   "source": [
    "!spades.py \\\n",
    "    -1 2-trimmomatic/ofp.fastq \\\n",
    "    -2 2-trimmomatic/orp.fastq \\\n",
    "    -o 3-spades/1-spades_result_default \\\n",
    "    --threads 2 \\\n",
    "    --memory 6"
   ]
  },
  {
   "cell_type": "markdown",
   "metadata": {},
   "source": [
    "### SPAdes: <font face = 'Consolas'>--careful</font>\n",
    "\n",
    "The <font face = 'Consolas'><b>--careful</b></font> option in SPAdes will attempt to reduce the number of mismatches and short indels."
   ]
  },
  {
   "cell_type": "code",
   "execution_count": null,
   "metadata": {},
   "outputs": [],
   "source": [
    "!spades.py \\\n",
    "    --careful \\\n",
    "    -1 2-trimmomatic/ofp.fastq \\\n",
    "    -2 2-trimmomatic/orp.fastq \\\n",
    "    -o 3-spades/2-spades_result_careful \\\n",
    "    --threads 2 \\\n",
    "    --memory 6"
   ]
  },
  {
   "cell_type": "markdown",
   "metadata": {},
   "source": [
    "### SPAdes: <font face = 'Consolas'>--isolate</font>\n",
    "\n",
    "The <font face = 'Consolas'><b>--isolate</b></font> option in SPAdes is recommended for high-coverage isolate and multi-cell data."
   ]
  },
  {
   "cell_type": "code",
   "execution_count": null,
   "metadata": {},
   "outputs": [],
   "source": [
    "!spades.py \\\n",
    "    --isolate \\\n",
    "    -1 2-trimmomatic/ofp.fastq \\\n",
    "    -2 2-trimmomatic/orp.fastq \\\n",
    "    -o 3-spades/3-spades_result_isolate \\\n",
    "    --threads 2 \\\n",
    "    --memory 6"
   ]
  },
  {
   "cell_type": "markdown",
   "metadata": {},
   "source": [
    "---\n",
    "# <font color = 'gray'>Step 5: Assembly Checking</font>"
   ]
  },
  {
   "cell_type": "markdown",
   "metadata": {},
   "source": [
    "To decide which assembly is the best among the three, we may evaluate them based on the metrics produced by QUAST. The command below does not use any reference genome, hence you will receive fewer metrics. However, if you have reference genome, you may specify its filepath after the <font face = 'Consolas'><b>-r</b></font> option.\n",
    "\n",
    "Compare the results of the 3 assemblies and decide which one to use for the succeeding steps."
   ]
  },
  {
   "cell_type": "code",
   "execution_count": null,
   "metadata": {},
   "outputs": [],
   "source": [
    "#Generate the evaluation report\n",
    "!quast.py \\\n",
    "    -o 4-quast \\\n",
    "    -l \"default, careful, isolate\" \\\n",
    "    3-spades/1-spades_result_default/scaffolds.fasta \\\n",
    "    3-spades/2-spades_result_careful/scaffolds.fasta \\\n",
    "    3-spades/3-spades_result_isolate/scaffolds.fasta"
   ]
  },
  {
   "cell_type": "code",
   "execution_count": null,
   "metadata": {},
   "outputs": [],
   "source": [
    "#Open the report of quast\n",
    "import webbrowser\n",
    "webbrowser.open('4-quast/report.html', new=2)"
   ]
  },
  {
   "cell_type": "markdown",
   "metadata": {},
   "source": [
    "---\n",
    "# <font color = 'gray'>Step 6: Annotation</font>"
   ]
  },
  {
   "cell_type": "markdown",
   "metadata": {},
   "source": [
    "The Prokka pipeline involves identifying the coding sequences (CDS), using Prodigal, and determining the identities of the predicted CDS by performing BLAST in a hierarchical manner using their built-in databases. It also predicts other genomic features such as tRNA, rRNA, and more.\n",
    "\n",
    "Optionally, if you want to annotate your assembled genome using a reference genome, you may supply the <font face = 'Consolas'><b>--proteins</b></font> option which requires a FASTA or a genbank file of your reference as the input.\n",
    "\n",
    "Note that the last argument of the command below uses the the scaffolds produced by the <b>default</b> mode of SPAdes. Replace this by whichever you've selected as the \"best\" assembly."
   ]
  },
  {
   "cell_type": "code",
   "execution_count": null,
   "metadata": {},
   "outputs": [],
   "source": [
    "!prokka \\\n",
    "    --outdir 5-prokka \\\n",
    "    --force \\\n",
    "    --compliant \\\n",
    "    3-spades/1-spades_result_default/scaffolds.fasta"
   ]
  },
  {
   "cell_type": "code",
   "execution_count": null,
   "metadata": {},
   "outputs": [],
   "source": []
  }
 ],
 "metadata": {
  "kernelspec": {
   "display_name": "Python 3",
   "language": "python",
   "name": "python3"
  },
  "language_info": {
   "codemirror_mode": {
    "name": "ipython",
    "version": 3
   },
   "file_extension": ".py",
   "mimetype": "text/x-python",
   "name": "python",
   "nbconvert_exporter": "python",
   "pygments_lexer": "ipython3",
   "version": "3.8.10"
  }
 },
 "nbformat": 4,
 "nbformat_minor": 4
}

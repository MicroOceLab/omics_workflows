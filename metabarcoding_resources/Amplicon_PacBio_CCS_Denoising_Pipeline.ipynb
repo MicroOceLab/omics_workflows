{
 "cells": [
  {
   "cell_type": "markdown",
   "id": "1a31c83e",
   "metadata": {},
   "source": [
    "<h1>QIIME2 Workflow for DADA2 Denoising of PacBio CCS Reads</h1>\n",
    "\n",
    "This notebook is a guide on working with QIIME2 with PacBio circular consensus sequences (CCS). This includes the DADA2 plugin in QIIME2 which encompasses the following steps: primer removal, filtering and trimming, learning of errors, and denoising.\n",
    "\n",
    "This workflow was built with the following as the main references: <a href = 'https://github.com/LangilleLab/microbiome_helper/wiki/PacBio-CCS-Amplicon-SOP-v1-%28qiime2%29'>LangilleLab SOP</a>, and <a href = 'https://docs.qiime2.org/2021.2/tutorials/moving-pictures/'>\"Moving pictures\" Tutorial</a>"
   ]
  },
  {
   "cell_type": "markdown",
   "id": "ab3efe5d",
   "metadata": {},
   "source": [
    "<h2><font color ='blue'>How to Use This Notebook</font></h2>\n",
    "\n",
    "1. Activate conda environment in terminal window. Make sure to change the environment name to what is applicable in your case. Note that QIIME2 support for PacBio CCS denoising with DADA2 started with the 2022.2 version. Please use the same version or something more recent than that.\n",
    ">`conda activate qiime2-2022.2`\n",
    "2. Open jupyter notebook with the command below and select the notebook.\n",
    ">`jupyter-notebook`\n",
    "3. To run the cells in this notebook, press Shift+Enter."
   ]
  },
  {
   "cell_type": "markdown",
   "id": "ab891286",
   "metadata": {},
   "source": [
    "## Starting Files \n",
    "\n",
    "1. This Jupyter notebook\n",
    "2. Directories for organizing the data. To make the folders, run the following code block:"
   ]
  },
  {
   "cell_type": "code",
   "execution_count": null,
   "id": "6f29fe17",
   "metadata": {},
   "outputs": [],
   "source": [
    "!mkdir denoising_ccs_demo_folder\n",
    "%cd denoising_ccs_demo_folder\n",
    "!mkdir \\\n",
    "0-raw-sequences \\\n",
    "1-cleanup \\\n",
    "2-tax-assign"
   ]
  },
  {
   "cell_type": "markdown",
   "id": "809ceb11",
   "metadata": {},
   "source": [
    "## Acknowledgement\n",
    "The data used for this demonstration are from <a href=\"https://academic.oup.com/nar/article/47/18/e103/5527971\">Callahan et al. (2019)</a>. The SRA accession IDs of the data used are SRR8557472 to SRR8557480."
   ]
  },
  {
   "cell_type": "markdown",
   "id": "2abb6ed3",
   "metadata": {},
   "source": [
    "---\n",
    "## Table of Contents\n",
    " * [**Step 1: Downloading Data**](#Step-1:-Downloading-Data)  \n",
    " * [**Step 2: Data Preparation**](#Step-2:-Data-Preparation)  \n",
    "     * [Create manifest file](#Create-manifest-file)\n",
    "     * [Import reads](#Import-reads)\n",
    " * [**Step 3: Denoising**](#Step-3:-Denoising)  \n",
    "---"
   ]
  },
  {
   "cell_type": "markdown",
   "id": "dd187c7e",
   "metadata": {},
   "source": [
    "# <font color = 'gray'>Step 1: Downloading Data</font>"
   ]
  },
  {
   "cell_type": "markdown",
   "id": "4fa430f0",
   "metadata": {},
   "source": [
    "The command below downloads the demo files and saves them inside the <font face=\"Consolas\">**0-raw-sequences**</font> folder."
   ]
  },
  {
   "cell_type": "code",
   "execution_count": null,
   "id": "95a27d05",
   "metadata": {},
   "outputs": [],
   "source": [
    "!wget \\\n",
    "    -P 0-raw-sequences \\\n",
    "    ftp://ftp.sra.ebi.ac.uk/vol1/fastq/SRR855/002/SRR8557472/SRR8557472_subreads.fastq.gz \\\n",
    "    ftp://ftp.sra.ebi.ac.uk/vol1/fastq/SRR855/003/SRR8557473/SRR8557473_subreads.fastq.gz \\\n",
    "    ftp://ftp.sra.ebi.ac.uk/vol1/fastq/SRR855/004/SRR8557474/SRR8557474_subreads.fastq.gz \\\n",
    "    ftp://ftp.sra.ebi.ac.uk/vol1/fastq/SRR855/005/SRR8557475/SRR8557475_subreads.fastq.gz \\\n",
    "    ftp://ftp.sra.ebi.ac.uk/vol1/fastq/SRR855/006/SRR8557476/SRR8557476_subreads.fastq.gz \\\n",
    "    ftp://ftp.sra.ebi.ac.uk/vol1/fastq/SRR855/007/SRR8557477/SRR8557477_subreads.fastq.gz \\\n",
    "    ftp://ftp.sra.ebi.ac.uk/vol1/fastq/SRR855/008/SRR8557478/SRR8557478_subreads.fastq.gz \\\n",
    "    ftp://ftp.sra.ebi.ac.uk/vol1/fastq/SRR855/009/SRR8557479/SRR8557479_subreads.fastq.gz \\\n",
    "    ftp://ftp.sra.ebi.ac.uk/vol1/fastq/SRR855/000/SRR8557480/SRR8557480_subreads.fastq.gz"
   ]
  },
  {
   "cell_type": "code",
   "execution_count": null,
   "id": "b3ca1f5c",
   "metadata": {},
   "outputs": [],
   "source": [
    "#Extract\n",
    "!gunzip 0-raw-sequences/*"
   ]
  },
  {
   "cell_type": "markdown",
   "id": "4c6f3d27",
   "metadata": {},
   "source": [
    "---\n",
    "# <font color = 'gray'>Step 2: Data Preparation</font>"
   ]
  },
  {
   "cell_type": "markdown",
   "id": "61249563",
   "metadata": {},
   "source": [
    "### Create manifest file\n",
    "\n",
    "Now that we have trimmed and taken only the reads in the proper orientation, we are nearly ready to import the sequences into QIIME2. We just need to create a manifest file so that QIIME2 would know which reads to import."
   ]
  },
  {
   "cell_type": "code",
   "execution_count": null,
   "id": "2db967cf",
   "metadata": {},
   "outputs": [],
   "source": [
    "import pandas as pd\n",
    "import glob\n",
    "import os\n",
    "\n",
    "sampleIDs, abs_path = [],[]\n",
    "fpath= os.getcwd()+\"/0-raw-sequences/\"\n",
    "for filepath in (glob.glob(fpath+\"*.fastq\")):\n",
    "    sample = filepath.split(\"/\")[-1].rsplit(\"_\", 2)[0]\n",
    "\n",
    "    if sample not in sampleIDs:\n",
    "        sampleIDs.append(sample)\n",
    "    if filepath not in abs_path:\n",
    "        abs_path.append(filepath)\n",
    "\n",
    "manifest =  pd.DataFrame({'sampleID': sorted(sampleIDs), 'absolute-filepath': sorted(abs_path)}) \n",
    "with open('manifest.txt', 'w') as m:\n",
    "    print(manifest.to_csv(sep='\\t', index=False, header=True), file=m)"
   ]
  },
  {
   "cell_type": "markdown",
   "id": "ab003fcd",
   "metadata": {},
   "source": [
    "### Import reads"
   ]
  },
  {
   "cell_type": "markdown",
   "id": "54da203b",
   "metadata": {},
   "source": [
    "Now, we can import the pooled reads to QIIME2 for further processing."
   ]
  },
  {
   "cell_type": "code",
   "execution_count": null,
   "id": "e643b574",
   "metadata": {},
   "outputs": [],
   "source": [
    "!qiime tools import \\\n",
    "    --type SampleData[SequencesWithQuality] \\\n",
    "    --input-path manifest.txt \\\n",
    "    --output-path 1-cleanup/ccs_reads.qza \\\n",
    "    --input-format SingleEndFastqManifestPhred33V2"
   ]
  },
  {
   "cell_type": "code",
   "execution_count": null,
   "id": "584b384d",
   "metadata": {},
   "outputs": [],
   "source": [
    "#Check the imported sequences\n",
    "!qiime demux summarize \\\n",
    "    --i-data 1-cleanup/ccs_reads.qza \\\n",
    "    --o-visualization 1-cleanup/ccs_reads.qzv"
   ]
  },
  {
   "cell_type": "code",
   "execution_count": null,
   "id": "a21f75de",
   "metadata": {},
   "outputs": [],
   "source": [
    "#Visualize\n",
    "import qiime2 as q2\n",
    "q2.Visualization.load(\"1-cleanup/ccs_reads.qzv\")"
   ]
  },
  {
   "cell_type": "markdown",
   "id": "c845e547",
   "metadata": {},
   "source": [
    "---\n",
    "# <font color = 'gray'>Step 3: Denoising</font>"
   ]
  },
  {
   "cell_type": "markdown",
   "id": "aaac4aa9",
   "metadata": {},
   "source": [
    "The command below does plenty of stuff for us besides denoising. \n",
    "\n",
    "This includes reorienting the reads; sequence files of PacBio CCS are typically in mixed orientation, that is, reads are randomly oriented in either 5' &#8594; 3' or 3' &#8594; 5' direction. To make sure that all reads are pointing to the same direction, we have to specify the forward and reverse primers in the <font face=\"Consolas\">--p-front</font> and <font face=\"Consolas\">--p-adapter</font> arguments, respectively.\n",
    "\n",
    "The command below also removes the specified primers for us.\n",
    "\n",
    "Moreover, this also attempts to remove chimeric sequences, and dereplicate the sequences as well."
   ]
  },
  {
   "cell_type": "code",
   "execution_count": null,
   "id": "287c12e9",
   "metadata": {},
   "outputs": [],
   "source": [
    "!qiime dada2 denoise-ccs \\\n",
    "    --i-demultiplexed-seqs 1-cleanup/ccs_reads.qza \\\n",
    "    --p-front AGRGTTYGATYMTGGCTCAG \\\n",
    "    --p-adapter RGYTACCTTGTTACGACTT \\\n",
    "    --p-n-threads 4 \\\n",
    "    --p-min-len 1000 \\\n",
    "    --p-max-len 1600 \\\n",
    "    --o-table 1-cleanup/ccs_denoised_table.qza \\\n",
    "    --o-representative-sequences 1-cleanup/ccs_denoised_rep_seqs.qza \\\n",
    "    --o-denoising-stats 1-cleanup/ccs_denoised_stats.qza \\\n",
    "    --verbose"
   ]
  },
  {
   "cell_type": "code",
   "execution_count": null,
   "id": "40d80fd3",
   "metadata": {},
   "outputs": [],
   "source": [
    "#Create visualization files\n",
    "!qiime feature-table summarize \\\n",
    "    --i-table 1-cleanup/ccs_denoised_table.qza \\\n",
    "    --o-visualization 1-cleanup/ccs_denoised_table.qzv\n",
    "\n",
    "!qiime feature-table tabulate-seqs \\\n",
    "    --i-data 1-cleanup/ccs_denoised_rep_seqs.qza \\\n",
    "    --o-visualization 1-cleanup/ccs_denoised_rep_seqs.qzv\n",
    "\n",
    "!qiime metadata tabulate \\\n",
    "    --m-input-file 1-cleanup/ccs_denoised_stats.qza \\\n",
    "    --o-visualization 1-cleanup/ccs_denoised_stats.qzv"
   ]
  },
  {
   "cell_type": "code",
   "execution_count": null,
   "id": "1048f5ec",
   "metadata": {},
   "outputs": [],
   "source": [
    "#Visualize table\n",
    "import qiime2 as q2\n",
    "q2.Visualization.load(\"1-cleanup/ccs_denoised_table.qzv\")"
   ]
  },
  {
   "cell_type": "code",
   "execution_count": null,
   "id": "0e8d245d",
   "metadata": {},
   "outputs": [],
   "source": [
    "#Visualize rep seqs\n",
    "q2.Visualization.load(\"1-cleanup/ccs_denoised_rep_seqs.qzv\")"
   ]
  },
  {
   "cell_type": "code",
   "execution_count": null,
   "id": "296023cc",
   "metadata": {},
   "outputs": [],
   "source": [
    "#Visualize denoising stats\n",
    "q2.Visualization.load(\"1-cleanup/ccs_denoised_stats.qzv\")"
   ]
  },
  {
   "cell_type": "markdown",
   "id": "155f39ef",
   "metadata": {},
   "source": [
    "After denoising, you can now proceed to feature filtering as described in the **Amplicon_Feature_Filtering.ipynb** and **Amplicon_Clustering_Pipeline.ipynb** notebooks. However, since samples here have much shallower depth, adjust the levels/frequency at which you filter your features.\n",
    "\n",
    "Moreover, you may also proceed to taxonomy assignment as described in the **Amplicon_Clustering_Pipeline.ipynb** and **Amplicon_Denoising_Pipeline.ipynb** notebooks. However, note that for those notebooks, the classifier used was specific for the 18S V4 region. Please select a classifier that covers your entire amplicon."
   ]
  },
  {
   "cell_type": "code",
   "execution_count": null,
   "id": "60a94662",
   "metadata": {},
   "outputs": [],
   "source": []
  }
 ],
 "metadata": {
  "kernelspec": {
   "display_name": "Python 3 (ipykernel)",
   "language": "python",
   "name": "python3"
  },
  "language_info": {
   "codemirror_mode": {
    "name": "ipython",
    "version": 3
   },
   "file_extension": ".py",
   "mimetype": "text/x-python",
   "name": "python",
   "nbconvert_exporter": "python",
   "pygments_lexer": "ipython3",
   "version": "3.8.13"
  }
 },
 "nbformat": 4,
 "nbformat_minor": 5
}

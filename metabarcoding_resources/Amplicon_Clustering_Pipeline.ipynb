{
 "cells": [
  {
   "cell_type": "markdown",
   "id": "ed8b13be",
   "metadata": {
    "id": "hired-handbook"
   },
   "source": [
    "<h1>QIIME2 Workflow for OTU Clustering</h1>\n",
    "\n",
    "This notebook is a guide on working with QIIME2 with raw paired-end demultiplexed reads as the starting dataset. This notebook includes quality checking of raw reads, primer trimming, OTU picking, taxonomic assignment, and exporting data.\n",
    "\n",
    "This workflow was built with the following as the main references: <a href = 'https://github.com/LangilleLab/microbiome_helper/wiki/Amplicon-SOP-v2-(qiime2-2020.8)'>LangilleLab SOP</a>, <a href = 'https://docs.qiime2.org/2021.2/tutorials/moving-pictures/'>\"Moving pictures\" Tutorial</a>, and <a href = 'https://docs.qiime2.org/2021.2/tutorials/atacama-soils/'>\"Atacama soil microbiome\" tutorial</a>.\n",
    "\n",
    "Written for Day 1 of Bioinformatics Workshop by the Microbial Oceanography Laboratory. Credits: LBR dela Peña, BW Hingpit, JB Quijano, D Purganan. "
   ]
  },
  {
   "cell_type": "markdown",
   "id": "e2978d0c",
   "metadata": {
    "id": "fresh-little"
   },
   "source": [
    "---\n",
    "## <font color ='blue'>How to Use This Notebook</font>\n",
    "\n",
    "1. Activate conda environment in terminal window. Make sure to change the environment name to what is applicable in your case.\n",
    ">`conda activate qiime2-2021.4`\n",
    "2. Open jupyter notebook with the command below and select the notebook.\n",
    ">`jupyter-notebook`\n",
    "3. To run the cells in this notebook, press Shift+Enter."
   ]
  },
  {
   "cell_type": "markdown",
   "id": "4fb6d2d8",
   "metadata": {},
   "source": [
    "---\n",
    "## Tools Used\n",
    "1. <b>QIIME2 2021.4</b>"
   ]
  },
  {
   "cell_type": "markdown",
   "id": "18ca1635",
   "metadata": {
    "id": "exact-omaha"
   },
   "source": [
    "---\n",
    "## Starting Files \n",
    "\n",
    "1. This Jupyter notebook\n",
    "2. Raw amplicon sequencing data files found in the folder a <font face=\"Consolas\">**amplicon_sample_data/raw_sequences**</font>\n",
    "3. Naive-bayes classifier and reference sequences found in the folder <font face=\"Consolas\">**classifier**</font>.\n",
    "3. Directories for organizing the data. To make the folders, run the following code block:"
   ]
  },
  {
   "cell_type": "code",
   "execution_count": null,
   "id": "341f8cc3",
   "metadata": {
    "id": "pleasant-acceptance",
    "scrolled": true
   },
   "outputs": [],
   "source": [
    "!mkdir clustering_demo_folder\n",
    "%cd clustering_demo_folder\n",
    "!mkdir \\\n",
    "0-raw-sequences \\\n",
    "1-cleanup \\\n",
    "2-tax-assign"
   ]
  },
  {
   "cell_type": "markdown",
   "id": "80d4855b",
   "metadata": {},
   "source": [
    "---\n",
    "## Acknowledgement\n",
    "The data used for this demonstration are from 8 samples collected and sequenced by <a href=\"https://www.researchgate.net/publication/345988236_Diversity_of_Marine_Eukaryotic_Picophytoplankton_Communities_with_Emphasis_on_Mamiellophyceae_in_Northwestern_Philippines\">dela Peña et al. (2021)</a>:\n",
    "\n",
    "<i>Dela Peña, L. B. R. O., Tejada, A. J. P., Quijano, J. B., Alonzo, K. H., Gernato, E. G., Caril, A., ... & Onda, D. F. L. (2021). Diversity of Marine Eukaryotic Picophytoplankton Communities with Emphasis on Mamiellophyceae in Northwestern Philippines. Philipp. J. Sci, 150, 27-42.</i>"
   ]
  },
  {
   "cell_type": "markdown",
   "id": "b94754b7",
   "metadata": {
    "id": "lucky-chemical"
   },
   "source": [
    "---\n",
    "## Table of Contents\n",
    " * [**Step 1: Data Preparation**](#Step-1:-Data-Preparation)  \n",
    "     * [Download data](#Download-data)\n",
    "     * [Making the manifest file](#Making-the-manifest-file)\n",
    "     * [Importing sequences](#Importing-sequences)  \n",
    "     * [Quality checking](#Quality-checking)\n",
    " * [**Step 2: Data Processing**](#Step-2:-Data-Processing)  \n",
    "     * [Trimming primers](#Trim-primers)\n",
    "     * [Merging reads](#Merging-reads)\n",
    "     * [Quality filtering](#Quality-filtering)\n",
    "     * [OTU clustering](#OTU-clustering)\n",
    "     * [Filtering and chimera removal](#Filtering-singletons-and-chimeras)\n",
    " * [**Step 3: Assigning Taxonomy**](#Step-3:-Assign-Taxonomy)\n",
    "     * [Feature data summaries](#Feature-data-summaries)\n",
    "     * [Taxonomy assignment](#Taxonomy-assignment)\n",
    "     * [Exporting OTU tables](#Exporting-OTU-tables)\n",
    "---"
   ]
  },
  {
   "cell_type": "markdown",
   "id": "a9a5bd99",
   "metadata": {
    "id": "hispanic-context"
   },
   "source": [
    "# <font color = 'gray'>Step 1: Data Preparation</font>\n"
   ]
  },
  {
   "cell_type": "markdown",
   "id": "d0d79b1b",
   "metadata": {},
   "source": [
    "### Download data\n",
    "\n",
    "The data that will be used for the demonstration of this workflow was taken from the study mentioned in the Acknowledgement section."
   ]
  },
  {
   "cell_type": "code",
   "execution_count": null,
   "id": "ff4df005",
   "metadata": {},
   "outputs": [],
   "source": [
    "!wget -i ../amplicon_sample_data/data-links.txt -P ./0-raw-sequences/"
   ]
  },
  {
   "cell_type": "markdown",
   "id": "1221d1e0",
   "metadata": {
    "id": "formed-service"
   },
   "source": [
    "### Making the manifest file\n",
    "\n",
    "Before we import our data, we have to make a **manifest file** that contains links to the forward and reverse file paths of each sample."
   ]
  },
  {
   "cell_type": "code",
   "execution_count": null,
   "id": "bf94e4e5",
   "metadata": {
    "id": "neural-bones"
   },
   "outputs": [],
   "source": [
    "import pandas as pd\n",
    "import glob\n",
    "import os\n",
    "\n",
    "sampleIDs, forwardpaths, reversepaths = [],[],[]\n",
    "fpath= os.getcwd()+\"/0-raw-sequences/\"\n",
    "for filepath in (glob.glob(fpath+\"*.gz\")):\n",
    "    sample = filepath.split(\"/\")[-1].rsplit(\"_\", 2)[0]\n",
    "\n",
    "    if sample not in sampleIDs:\n",
    "        sampleIDs.append(sample)\n",
    "    if \"_1.fastq.gz\" in filepath:\n",
    "        forwardpaths.append(filepath)\n",
    "    elif \"_2.fastq.gz\" in filepath:\n",
    "        reversepaths.append(filepath)\n",
    "\n",
    "manifest =  pd.DataFrame({'sampleID': sorted(sampleIDs), 'forward-absolute-filepath': sorted(forwardpaths), 'reverse-absolute-filepath':sorted(reversepaths)} ) \n",
    "with open('manifest.txt', 'w') as m:\n",
    "    print(manifest.to_csv(sep='\\t', index=False, header=True), file=m)"
   ]
  },
  {
   "cell_type": "markdown",
   "id": "93585c7b",
   "metadata": {
    "id": "single-swedish"
   },
   "source": [
    "The <font face=\"Consolas\">**manifest.txt**</font> file will show the sample ID (or SRA Number) and the absolute paths to the forward and reverse reads."
   ]
  },
  {
   "cell_type": "markdown",
   "id": "5e897352",
   "metadata": {
    "id": "thousand-million"
   },
   "source": [
    "\n",
    "### Importing sequences\n",
    "Now that we prepared all the necessary files, we can make our first QIIME command: importing the sequence data."
   ]
  },
  {
   "cell_type": "code",
   "execution_count": null,
   "id": "7d86a12c",
   "metadata": {
    "id": "4062ed48"
   },
   "outputs": [],
   "source": [
    "# Import the sequences\n",
    "# Insert path to sequence folder after '--input-path'\n",
    "!qiime tools import \\\n",
    "    --type 'SampleData[PairedEndSequencesWithQuality]' \\\n",
    "    --input-path manifest.txt \\\n",
    "    --output-path 0-raw-sequences/seqs.qza \\\n",
    "    --input-format PairedEndFastqManifestPhred33V2"
   ]
  },
  {
   "cell_type": "markdown",
   "id": "b4653a62",
   "metadata": {
    "id": "soviet-exclusion"
   },
   "source": [
    "\n",
    "\n",
    "This converts the sequence data into a **QIIME artifact**. Artifacts have the extension '.qza'\n",
    "\n",
    "### Quality checking\n",
    "\n",
    "Our sequences are already *demultiplexed*, meaning they are already separated into different samples. We can use the `demux` plugin instead to visualize our sequences. **QIIME visualizations** have the extension '.qzv'. The .qzv files can be viewed in  http://view.qiime2.org or we can import the `qiime2` module to view the visualizations inline.\n",
    "\n"
   ]
  },
  {
   "cell_type": "code",
   "execution_count": null,
   "id": "964c8cdd",
   "metadata": {
    "id": "accessory-metallic"
   },
   "outputs": [],
   "source": [
    "# Make summary of the QIIME2 artifact (.qza file)\n",
    "!qiime demux summarize \\\n",
    "    --i-data  0-raw-sequences/seqs.qza \\\n",
    "    --p-n 100000 \\\n",
    "    --o-visualization 0-raw-sequences/seqs.qzv"
   ]
  },
  {
   "cell_type": "code",
   "execution_count": null,
   "id": "f5fe31f0",
   "metadata": {},
   "outputs": [],
   "source": [
    "#Visualize\n",
    "import qiime2 as q2\n",
    "# Visualize\n",
    "q2.Visualization.load('0-raw-sequences/seqs.qzv')"
   ]
  },
  {
   "cell_type": "markdown",
   "id": "491f23c0",
   "metadata": {
    "id": "processed-review"
   },
   "source": [
    "Open the visualization summary and go to the **Interactive Quality Plot**. Here, we can see the average quality score of the reads at each position. In general, we want to maintain a score above 30. \n",
    " \n",
    "----\n",
    "# <font color = 'gray'>Step 2: Data Processing</font>"
   ]
  },
  {
   "cell_type": "markdown",
   "id": "6c022e8f",
   "metadata": {
    "id": "vocational-garlic"
   },
   "source": [
    "To prepare our sequences, we have to perform several steps:\n",
    "1. Trim primers\n",
    "2. Merge paired-end reads\n",
    "3. Filter sequences by quality\n",
    "4. Dereplicate\n",
    "5. Pick OTUs\n",
    "6. Filter chimeras and singletons\n",
    "\n",
    "⚠️  Some commands here may take a long time, depending on how whether your machine is able to handle the task. If at any point you think the command is taking too long, you can copy the files from the <font face=\"Consolas\">**amplicon_sample_data/output_data/otu_clustering**</font> folder."
   ]
  },
  {
   "cell_type": "markdown",
   "id": "2d82d091",
   "metadata": {
    "id": "descending-association"
   },
   "source": [
    "### Trim primers\n",
    "To remove the primers in our sequences, we use the `cutadapt` plugin. The primers used were E572F/E1009R, which have <b>18bp</b> and <b>20bp</b> lengths, respectively. Removing the primers is important especially if there are ambiguous bases, which might get confused as chimeric or low quality positions. You can explore more about the primer sequences, length, and predicted amplicon size in this excellent app <a href=\"https://app.pr2-primers.org/\">PR-2 Primers</a>."
   ]
  },
  {
   "cell_type": "markdown",
   "id": "3f107da4",
   "metadata": {},
   "source": [
    "<font color = 'red'>NOTE: Remember to set the primer pair sequences that is applicable in your case in the <font face = 'Consolas'><b>--p-front-f</b></font> and <font face = 'Consolas'><b>--p-front-r</b></font> options."
   ]
  },
  {
   "cell_type": "code",
   "execution_count": null,
   "id": "7609a8ac",
   "metadata": {
    "id": "charged-attention"
   },
   "outputs": [],
   "source": [
    "!qiime cutadapt trim-paired \\\n",
    "    --i-demultiplexed-sequences 0-raw-sequences/seqs.qza \\\n",
    "    --p-front-f CYGCGGTAATTCCAGCTC  \\\n",
    "    --p-front-r AYGGTATCTRATCRTCTTYG  \\\n",
    "    --p-error-rate 0 \\\n",
    "    --p-discard-untrimmed \\\n",
    "    --o-trimmed-sequences 1-cleanup/1-primer-trimmed-seqs.qza \\\n",
    "    --verbose"
   ]
  },
  {
   "cell_type": "code",
   "execution_count": null,
   "id": "3043a0ac",
   "metadata": {},
   "outputs": [],
   "source": [
    "#Check after trimming primers\n",
    "!qiime demux summarize \\\n",
    "    --i-data  1-cleanup/1-primer-trimmed-seqs.qza \\\n",
    "    --p-n 100000 \\\n",
    "    --o-visualization 1-cleanup/1-primer-trimmed-seqs.qzv"
   ]
  },
  {
   "cell_type": "code",
   "execution_count": null,
   "id": "ee3adaf1",
   "metadata": {},
   "outputs": [],
   "source": [
    "#Visualize\n",
    "import qiime2 as q2\n",
    "# Visualize\n",
    "q2.Visualization.load('1-cleanup/1-primer-trimmed-seqs.qzv')"
   ]
  },
  {
   "cell_type": "markdown",
   "id": "260bb0ee",
   "metadata": {
    "id": "planned-bolivia"
   },
   "source": [
    "### Merging reads\n",
    "Now, we merge our forward and reverse reads using `vsearch`. Make sure to adjust the minimum overlap length to a value you should expect based on the region being amplified and size of the reads."
   ]
  },
  {
   "cell_type": "code",
   "execution_count": null,
   "id": "4ade0520",
   "metadata": {
    "id": "listed-episode"
   },
   "outputs": [],
   "source": [
    "!qiime vsearch join-pairs \\\n",
    "    --i-demultiplexed-seqs 1-cleanup/1-primer-trimmed-seqs.qza \\\n",
    "    --o-joined-sequences 1-cleanup/2-merged-seqs.qza \\\n",
    "    --p-minovlen 140 \\\n",
    "    --verbose"
   ]
  },
  {
   "cell_type": "code",
   "execution_count": null,
   "id": "2e5536e1",
   "metadata": {},
   "outputs": [],
   "source": [
    "#Check output after joining reads\n",
    "!qiime demux summarize \\\n",
    "    --i-data  1-cleanup/2-merged-seqs.qza \\\n",
    "    --p-n 100000 \\\n",
    "    --o-visualization 1-cleanup/2-merged-seqs.qzv"
   ]
  },
  {
   "cell_type": "code",
   "execution_count": null,
   "id": "019ec1fe",
   "metadata": {},
   "outputs": [],
   "source": [
    "#Visualize\n",
    "import qiime2 as q2\n",
    "# Visualize\n",
    "q2.Visualization.load('1-cleanup/2-merged-seqs.qzv')"
   ]
  },
  {
   "cell_type": "markdown",
   "id": "4861f4a2",
   "metadata": {
    "id": "seven-machinery"
   },
   "source": [
    "### Quality filtering\n",
    "In the next step, we will filter out low-quality sequences. We set our minimum PHRED score to **30**, filtering out low-quality sequences."
   ]
  },
  {
   "cell_type": "code",
   "execution_count": null,
   "id": "c1c32281",
   "metadata": {
    "id": "differential-graduation",
    "scrolled": true
   },
   "outputs": [],
   "source": [
    "!qiime quality-filter q-score \\\n",
    "    --i-demux 1-cleanup/2-merged-seqs.qza \\\n",
    "    --o-filtered-sequences 1-cleanup/3-merged-qc-seqs.qza \\\n",
    "    --p-min-quality 30 \\\n",
    "    --o-filter-stats 1-cleanup/3-merged-qc-stats.qza"
   ]
  },
  {
   "cell_type": "code",
   "execution_count": null,
   "id": "a1b45a5b",
   "metadata": {},
   "outputs": [],
   "source": [
    "#Check post QC data\n",
    "!qiime demux summarize \\\n",
    "    --i-data 1-cleanup/3-merged-qc-seqs.qza \\\n",
    "    --p-n 100000 \\\n",
    "    --o-visualization 1-cleanup/3-merged-qc-seqs.qzv"
   ]
  },
  {
   "cell_type": "code",
   "execution_count": null,
   "id": "024e0de6",
   "metadata": {},
   "outputs": [],
   "source": [
    "#Visualize\n",
    "import qiime2 as q2\n",
    "# Visualize\n",
    "q2.Visualization.load('1-cleanup/3-merged-qc-seqs.qzv')"
   ]
  },
  {
   "cell_type": "markdown",
   "id": "a44daded",
   "metadata": {
    "id": "indoor-citation"
   },
   "source": [
    "### Dereplicating\n",
    "\n",
    "Dereplication of sequences can be done using `vsearch`. This outputs a table and a sequence artifact."
   ]
  },
  {
   "cell_type": "code",
   "execution_count": null,
   "id": "fec15525",
   "metadata": {
    "id": "addressed-cancellation",
    "scrolled": true
   },
   "outputs": [],
   "source": [
    "!qiime vsearch dereplicate-sequences \\\n",
    "    --i-sequences 1-cleanup/3-merged-qc-seqs.qza \\\n",
    "    --o-dereplicated-table 1-cleanup/4-drp-table.qza \\\n",
    "    --o-dereplicated-sequences 1-cleanup/4-drp-seqs.qza"
   ]
  },
  {
   "cell_type": "markdown",
   "id": "ccd9316a",
   "metadata": {
    "id": "touched-newcastle"
   },
   "source": [
    "Let's take a peek at the resulting table:"
   ]
  },
  {
   "cell_type": "code",
   "execution_count": null,
   "id": "306cded0",
   "metadata": {
    "id": "wireless-mouth",
    "scrolled": true
   },
   "outputs": [],
   "source": [
    "# Summarize table\n",
    "!qiime feature-table summarize \\\n",
    "    --i-table 1-cleanup/4-drp-table.qza \\\n",
    "    --o-visualization 1-cleanup/4-drp-table.qzv"
   ]
  },
  {
   "cell_type": "code",
   "execution_count": null,
   "id": "f7c92a25",
   "metadata": {},
   "outputs": [],
   "source": [
    "import qiime2 as q2\n",
    "# Visualize\n",
    "q2.Visualization.load('1-cleanup/4-drp-table.qzv')"
   ]
  },
  {
   "cell_type": "markdown",
   "id": "09b04aeb",
   "metadata": {
    "id": "reflected-criticism"
   },
   "source": [
    "### OTU clustering\n",
    "\n",
    "Vsearch can also perform OTU picking, which clusters sequences according to their similarity. OTU clustering can be done with a reference database, by grouping sequences that match with the same reference sequence.  For this step, we will use a classifier curated by MOLab, which uses a combination of the SILVA and Nordicana databases. Other QIIME2-formatted reference databases are also available in the <a href=\"https://docs.qiime2.org/2021.4/data-resources/\">QIIME2 data resources page </a>."
   ]
  },
  {
   "cell_type": "code",
   "execution_count": null,
   "id": "8cd8ea3a",
   "metadata": {
    "id": "knowing-stream"
   },
   "outputs": [],
   "source": [
    "# Reference: Molab silva nord sequences\n",
    "!qiime vsearch cluster-features-open-reference \\\n",
    "    --i-table 1-cleanup/4-drp-table.qza \\\n",
    "    --i-sequences 1-cleanup/4-drp-seqs.qza \\\n",
    "    --p-perc-identity 0.98 \\\n",
    "    --i-reference-sequences ../classifier/silva-138-nord-drp-seq.qza \\\n",
    "    --o-clustered-table 1-cleanup/5-clust-OTU-table.qza \\\n",
    "    --o-clustered-sequences 1-cleanup/5-clust-OTU-seqs.qza \\\n",
    "    --o-new-reference-sequences 1-cleanup/5-clust-OTU-ref-seqs.qza"
   ]
  },
  {
   "cell_type": "code",
   "execution_count": null,
   "id": "a8a72244",
   "metadata": {
    "id": "isolated-initial",
    "scrolled": true
   },
   "outputs": [],
   "source": [
    "# Summarize OTU table\n",
    "!qiime feature-table summarize \\\n",
    "    --i-table 1-cleanup/5-clust-OTU-table.qza  \\\n",
    "    --o-visualization 1-cleanup/5-clust-OTU-table.qzv "
   ]
  },
  {
   "cell_type": "code",
   "execution_count": null,
   "id": "a6de16da",
   "metadata": {},
   "outputs": [],
   "source": [
    "#Visualize\n",
    "import qiime2 as q2\n",
    "q2.Visualization.load('1-cleanup/5-clust-OTU-table.qzv')"
   ]
  },
  {
   "cell_type": "code",
   "execution_count": null,
   "id": "e362fa94",
   "metadata": {},
   "outputs": [],
   "source": [
    "#Check clustered OTU seqs\n",
    "!qiime feature-table tabulate-seqs \\\n",
    "    --i-data 1-cleanup/5-clust-OTU-seqs.qza \\\n",
    "    --o-visualization 1-cleanup/5-clust-OTU-seqs.qzv"
   ]
  },
  {
   "cell_type": "code",
   "execution_count": null,
   "id": "01fe1589",
   "metadata": {},
   "outputs": [],
   "source": [
    "# Visualize\n",
    "import qiime2 as q2\n",
    "q2.Visualization.load('1-cleanup/5-clust-OTU-seqs.qzv')"
   ]
  },
  {
   "cell_type": "markdown",
   "id": "fec89f6c",
   "metadata": {
    "id": "forced-albert"
   },
   "source": [
    "### Filtering singletons and chimeras\n",
    "\n",
    "We can remove singletons using `feature-table`. The `min-frequency` parameter is set to 2 to remove those occuring only once."
   ]
  },
  {
   "cell_type": "code",
   "execution_count": null,
   "id": "074d9d31",
   "metadata": {
    "id": "inappropriate-limit",
    "scrolled": true
   },
   "outputs": [],
   "source": [
    "#Filter features with frequency of <= 1\n",
    "!qiime feature-table filter-features \\\n",
    "    --i-table 1-cleanup/5-clust-OTU-table.qza  \\\n",
    "    --p-min-frequency 2 \\\n",
    "    --o-filtered-table 1-cleanup/6-filtered-OTU-table.qza \n",
    "\n",
    "#Remove the same features in the sequence file as well\n",
    "!qiime feature-table filter-seqs \\\n",
    "    --i-data 1-cleanup/5-clust-OTU-seqs.qza \\\n",
    "    --i-table 1-cleanup/6-filtered-OTU-table.qza \\\n",
    "    --o-filtered-data 1-cleanup/6-filtered-OTU-seqs.qza"
   ]
  },
  {
   "cell_type": "code",
   "execution_count": null,
   "id": "d3e79b74",
   "metadata": {},
   "outputs": [],
   "source": [
    "# Summarize OTU table with singletons removed\n",
    "!qiime feature-table summarize \\\n",
    "    --i-table 1-cleanup/6-filtered-OTU-table.qza  \\\n",
    "    --o-visualization 1-cleanup/6-filtered-OTU-table.qzv "
   ]
  },
  {
   "cell_type": "code",
   "execution_count": null,
   "id": "93b70a7a",
   "metadata": {},
   "outputs": [],
   "source": [
    "q2.Visualization.load('1-cleanup/6-filtered-OTU-table.qzv')"
   ]
  },
  {
   "cell_type": "code",
   "execution_count": null,
   "id": "a71120f1",
   "metadata": {},
   "outputs": [],
   "source": [
    "#Check OTU seqs with singletons removed\n",
    "!qiime feature-table tabulate-seqs \\\n",
    "    --i-data 1-cleanup/6-filtered-OTU-seqs.qza \\\n",
    "    --o-visualization 1-cleanup/6-filtered-OTU-seqs.qzv"
   ]
  },
  {
   "cell_type": "code",
   "execution_count": null,
   "id": "5c4ca128",
   "metadata": {},
   "outputs": [],
   "source": [
    "q2.Visualization.load('1-cleanup/6-filtered-OTU-seqs.qzv')"
   ]
  },
  {
   "cell_type": "markdown",
   "id": "eadc01e4",
   "metadata": {
    "id": "complete-customs"
   },
   "source": [
    "Chimeras can be removed using `vsearch uchime`. "
   ]
  },
  {
   "cell_type": "code",
   "execution_count": null,
   "id": "46f4e1fa",
   "metadata": {
    "id": "caroline-proposal",
    "scrolled": true
   },
   "outputs": [],
   "source": [
    "#Detect chimeras\n",
    "!qiime vsearch uchime-denovo\\\n",
    "    --i-sequences 1-cleanup/6-filtered-OTU-seqs.qza \\\n",
    "    --i-table 1-cleanup/6-filtered-OTU-table.qza \\\n",
    "    --output-dir 3-chimeras/"
   ]
  },
  {
   "cell_type": "code",
   "execution_count": null,
   "id": "c817ff39",
   "metadata": {
    "id": "stupid-recycling",
    "scrolled": true
   },
   "outputs": [],
   "source": [
    "#Remove chimeras from the table\n",
    "!qiime feature-table filter-features \\\n",
    "    --i-table 1-cleanup/6-filtered-OTU-table.qza \\\n",
    "    --m-metadata-file 3-chimeras/nonchimeras.qza \\\n",
    "    --o-filtered-table 1-cleanup/7-OTU-table.qza\n",
    "\n",
    "#Remove chimeras from the sequences\n",
    "!qiime feature-table filter-seqs \\\n",
    "    --i-data 1-cleanup/6-filtered-OTU-seqs.qza \\\n",
    "    --i-table 1-cleanup/7-OTU-table.qza \\\n",
    "    --o-filtered-data 1-cleanup/7-OTU-rep-seqs.qza"
   ]
  },
  {
   "cell_type": "markdown",
   "id": "cce46962",
   "metadata": {
    "id": "promotional-stability"
   },
   "source": [
    "---\n",
    "# <font color = 'gray'>Step 3: Assign Taxonomy</font>\n"
   ]
  },
  {
   "cell_type": "markdown",
   "id": "6944188f",
   "metadata": {
    "id": "advanced-marina"
   },
   "source": [
    "### Feature data summaries\n",
    "After quality filtering, the resulting data can be explored using `feature-table summarize` and `feature table tabulate-seqs`. The former command will give information on how many sequences are associated with each sample and with each feature (OTUs), histograms of those and some related summary statistics while the latter will provide a mapping of feature IDs to sequences, and provide links to easily BLAST each sequence against the NCBI nt database.\n"
   ]
  },
  {
   "cell_type": "code",
   "execution_count": null,
   "id": "be02942c",
   "metadata": {
    "id": "south-shore",
    "scrolled": true
   },
   "outputs": [],
   "source": [
    "# Summarize OTU table\n",
    "!qiime feature-table summarize \\\n",
    "    --i-table 1-cleanup/7-OTU-table.qza \\\n",
    "    --o-visualization 1-cleanup/7-OTU-table.qzv "
   ]
  },
  {
   "cell_type": "code",
   "execution_count": null,
   "id": "578cf64c",
   "metadata": {},
   "outputs": [],
   "source": [
    "import qiime2 as q2\n",
    "# Visualize\n",
    "q2.Visualization.load('1-cleanup/7-OTU-table.qzv')"
   ]
  },
  {
   "cell_type": "markdown",
   "id": "717bcf3b",
   "metadata": {
    "id": "clean-corruption"
   },
   "source": [
    "The results show how many OTUs were determined in our samples in the overview. In the *Interactive Sample Detail* tab, you can see how many OTUs were detected in each sample. In the last tab (*Feature Detail*), you can see the OTU ID, their frequencies, and occurence in the samples. \n",
    "🤔 What is the most frequently detected OTU?"
   ]
  },
  {
   "cell_type": "code",
   "execution_count": null,
   "id": "0244a535",
   "metadata": {
    "id": "natural-browse"
   },
   "outputs": [],
   "source": [
    "# Map OTUs to sequences\n",
    "!qiime feature-table tabulate-seqs \\\n",
    "    --i-data 1-cleanup/7-OTU-rep-seqs.qza \\\n",
    "    --o-visualization 1-cleanup/7-OTU-rep-seqs.qzv"
   ]
  },
  {
   "cell_type": "code",
   "execution_count": null,
   "id": "ec518427",
   "metadata": {},
   "outputs": [],
   "source": [
    "import qiime2 as q2\n",
    "# Visualize\n",
    "q2.Visualization.load('1-cleanup/7-OTU-rep-seqs.qzv')"
   ]
  },
  {
   "cell_type": "markdown",
   "id": "d4844053",
   "metadata": {
    "id": "toxic-direction"
   },
   "source": [
    "This summary shows how many different OTUs were detected in each sample. Scroll down to the **Sequence Table** summary. Try to find the most frequent OTU (determined from the previous visualization). Clicking on the link in the **sequence** column will take you to NCBI BLAST, which will match that sequence with other publicly available sequences.\n",
    "🤔 What organism is identified?"
   ]
  },
  {
   "cell_type": "markdown",
   "id": "c24c6561",
   "metadata": {
    "id": "textile-truth"
   },
   "source": [
    "### Taxonomy assignment\n",
    "\n",
    "To annotate the metabarcoding data, we use a reference database which will classify the sequences to their taxonomic identities using the plugin `sci-kit learn`. For 18S rRNA eukaryotic data, we will use a curated database, which has been optimized for the specific region targeted by the primers used in this run (18S V4 region). This database was annotated in the Microbial Oceanography Laboratory and features entries from both <a href=\"https://www.arb-silva.de/\">SILVA</a> and <a href=\"http://www.cen.ulaval.ca/nordicanad/dpage.aspx?doi=45409XD-79A199B76BCC4110\">Nordicana</a> databases. Other references for eukaryotic sequences can be used, such as the <a href=\"https://pr2-database.org/\">PR2 database</a> which has high-quality reference sequences curated by other experts."
   ]
  },
  {
   "cell_type": "code",
   "execution_count": null,
   "id": "440e3417",
   "metadata": {
    "id": "amazing-domestic",
    "scrolled": true
   },
   "outputs": [],
   "source": [
    "# Classify using sci-kit learn (sklearn)\n",
    "!qiime feature-classifier classify-sklearn \\\n",
    "    --i-classifier ../classifier/silva-138-nord-classifier.2021-4.qza \\\n",
    "    --i-reads 1-cleanup/7-OTU-rep-seqs.qza \\\n",
    "    --o-classification 2-tax-assign/1-OTU-taxa.qza \\\n",
    "    --verbose"
   ]
  },
  {
   "cell_type": "code",
   "execution_count": null,
   "id": "8e977506",
   "metadata": {
    "id": "southern-gentleman",
    "scrolled": true
   },
   "outputs": [],
   "source": [
    "#Tabulate predictions\n",
    "!qiime metadata tabulate \\\n",
    "    --m-input-file 2-tax-assign/1-OTU-taxa.qza \\\n",
    "    --o-visualization 2-tax-assign/1-OTU-taxa.qzv"
   ]
  },
  {
   "cell_type": "code",
   "execution_count": null,
   "id": "6673fab6",
   "metadata": {},
   "outputs": [],
   "source": [
    "# Visualize\n",
    "import qiime2 as q2\n",
    "q2.Visualization.load('2-tax-assign/1-OTU-taxa.qzv')"
   ]
  },
  {
   "cell_type": "markdown",
   "id": "6dcd9840",
   "metadata": {
    "id": "spatial-rebate"
   },
   "source": [
    "We can view interactive taxonomic barplot to see the composition of each sample.\n",
    "\n",
    "After loading the visualization, select *Level* to 7 to view at the most resolved classification. You can also toggle the orders of the samples based on their metadata."
   ]
  },
  {
   "cell_type": "code",
   "execution_count": null,
   "id": "a0618e70",
   "metadata": {
    "id": "supreme-aspect"
   },
   "outputs": [],
   "source": [
    "#generate a taxa barplot\n",
    "!qiime taxa barplot \\\n",
    "    --i-table 1-cleanup/7-OTU-table.qza \\\n",
    "    --i-taxonomy 2-tax-assign/1-OTU-taxa.qza \\\n",
    "    --o-visualization 2-tax-assign/2-bar-plots-OTU.qzv"
   ]
  },
  {
   "cell_type": "code",
   "execution_count": null,
   "id": "7a333fef",
   "metadata": {},
   "outputs": [],
   "source": [
    "#Visualize\n",
    "import qiime2 as q2\n",
    "q2.Visualization.load('2-tax-assign/2-bar-plots-OTU.qzv')"
   ]
  },
  {
   "cell_type": "markdown",
   "id": "68ea7422",
   "metadata": {
    "id": "renewable-sheffield"
   },
   "source": [
    "### Exporting OTU tables\n",
    "\n",
    "We can export the OTU tables in a format we can use in other programs, such as R."
   ]
  },
  {
   "cell_type": "code",
   "execution_count": null,
   "id": "87038b49",
   "metadata": {
    "id": "psychological-garlic",
    "scrolled": true
   },
   "outputs": [],
   "source": [
    "!qiime tools export --input-path 1-cleanup/7-OTU-table.qza  --output-path exported\n",
    "!qiime tools export --input-path 2-tax-assign/1-OTU-taxa.qza --output-path exported\n",
    "\n",
    "#Change the first line of biom-taxonomy.tsv (i.e. the header) to this:\n",
    "# #OTUID taxonomy confidence\n",
    "!sed '1c#OTUID\\ttaxonomy\\tconfidence' exported/taxonomy.tsv > exported/biom-taxonomy.tsv"
   ]
  },
  {
   "cell_type": "code",
   "execution_count": null,
   "id": "30a2b0ff",
   "metadata": {
    "id": "subsequent-programmer",
    "scrolled": false
   },
   "outputs": [],
   "source": [
    "!biom add-metadata \\\n",
    "    -i exported/feature-table.biom \\\n",
    "    -o exported/otu-table-with-taxonomy.biom \\\n",
    "    --observation-metadata-fp exported/biom-taxonomy.tsv \\\n",
    "    --sc-separated taxonomy\n",
    "\n",
    "!biom convert\\\n",
    "    -i exported/otu-table-with-taxonomy.biom\\\n",
    "    -o exported/otu-feature-table-with-tax.tsv\\\n",
    "    --to-tsv \\\n",
    "    --header-key taxonomy"
   ]
  },
  {
   "cell_type": "markdown",
   "id": "6ae4b14f",
   "metadata": {
    "id": "assigned-threat"
   },
   "source": [
    "Now, we have an OTU table, showing the feature ID, frequencies in samples, and assigned taxonomy."
   ]
  },
  {
   "cell_type": "code",
   "execution_count": null,
   "id": "d6e871dd",
   "metadata": {
    "id": "d8bce6b0"
   },
   "outputs": [],
   "source": [
    "import pandas as pd\n",
    "\n",
    "OTUtable = pd.read_csv('exported/otu-feature-table-with-tax.tsv', sep=\"\\t\", header = 1)\n",
    "OTUtable"
   ]
  },
  {
   "cell_type": "code",
   "execution_count": null,
   "id": "36f3adb0",
   "metadata": {},
   "outputs": [],
   "source": []
  }
 ],
 "metadata": {
  "colab": {
   "name": "Bioinformatics Workshop - Day 1.ipynb",
   "provenance": []
  },
  "kernelspec": {
   "display_name": "Python 3",
   "language": "python",
   "name": "python3"
  },
  "language_info": {
   "codemirror_mode": {
    "name": "ipython",
    "version": 3
   },
   "file_extension": ".py",
   "mimetype": "text/x-python",
   "name": "python",
   "nbconvert_exporter": "python",
   "pygments_lexer": "ipython3",
   "version": "3.8.8"
  }
 },
 "nbformat": 4,
 "nbformat_minor": 5
}

{
 "cells": [
  {
   "cell_type": "markdown",
   "metadata": {},
   "source": [
    "<h1>Functional Prediction From Marker Genes With PICRUSt2</h1>"
   ]
  },
  {
   "cell_type": "markdown",
   "metadata": {},
   "source": [
    "This notebook outlines the steps involved in running the PICRUSt2 functional prediction pipeline.\n",
    "\n",
    "This workflow was built with the following as the main references: <a href='https://github.com/picrust/picrust2/wiki'>PICRUSt2 GitHub Wiki</a>, and <a href='https://github.com/LangilleLab/microbiome_helper/wiki/CBW-2021-PICRUSt2-Tutorial'>LangilleLab SOP</a> "
   ]
  },
  {
   "cell_type": "markdown",
   "metadata": {},
   "source": [
    "## How to Use This Notebook\n",
    "1. Activate PICRUSt2 conda environment. Make sure to change the environment name to whatever is applicable.\n",
    ">`conda activate picrust2`\n",
    "2. Open jupyter notebook and select this notebook.\n",
    ">`jupyter notebook`\n",
    "3. To run the cells, press Shift+Enter"
   ]
  },
  {
   "cell_type": "markdown",
   "metadata": {},
   "source": [
    "## File Source\n",
    "<i>Raes, E. J., Karsh, K., Sow, S. L., Ostrowski, M., Brown, M. V., van de Kamp, J., ... & Waite, A. M. (2021). Metabolic pathways inferred from a bacterial marker gene illuminate ecological changes across South Pacific frontal boundaries. Nature communications, 12(1), 1-12.</i>\n",
    "\n",
    "Data repository:\n",
    "https://zenodo.org/record/4567694#.YhnG6ehBxPZ"
   ]
  },
  {
   "cell_type": "markdown",
   "metadata": {},
   "source": [
    "## Starting Files\n",
    "1. This Jupyter notebook\n",
    "2. Representative sequences\n",
    "3. Feature table\n",
    "4. The <b>resources</b> folder which contains all input and output files"
   ]
  },
  {
   "cell_type": "markdown",
   "metadata": {},
   "source": [
    "---\n",
    "## Table of Contents\n",
    " * [**Step 1: Phylogenetic placement**](#Step-1:-Phylogenetic-placement)  \n",
    " * [**Step 2: Hidden-state prediction**](#Step-2:-Hidden-state-prediction)  \n",
    " * [**Step 3: Predicting Number of 16S rRNA genes per representative sequence**](#Step-3:-Predicting-Number-of-16S-rRNA-genes-per-representative-sequence)\n",
    " * [**Step 4: Predict metagenome of the samples**](#Step-4:-Predict-metagenome-of-the-samples)\n",
    " * [**Step 5: Infer pathways**](#Step-5:-Infer-pathways)  \n",
    " * [**Step 6: Add descriptions**](#Step-6:-Add-descriptions)  \n",
    "---"
   ]
  },
  {
   "cell_type": "code",
   "execution_count": null,
   "metadata": {},
   "outputs": [],
   "source": [
    "!mkdir picrust2_out"
   ]
  },
  {
   "cell_type": "markdown",
   "metadata": {},
   "source": [
    "## Single-command Run\n",
    "Run the entire PICRUSt2 pipeline using a single command only."
   ]
  },
  {
   "cell_type": "code",
   "execution_count": null,
   "metadata": {},
   "outputs": [],
   "source": [
    "!picrust2_pipeline.py \\\n",
    "    -s rep_seqs.fa \\\n",
    "    -i feature_table.tsv \\\n",
    "    -o output_dir \\\n",
    "    [other options]"
   ]
  },
  {
   "cell_type": "markdown",
   "metadata": {},
   "source": [
    "## Step-by-step Run\n",
    "Run the PICRUSt2 pipeline step-by-step using different scripts."
   ]
  },
  {
   "cell_type": "markdown",
   "metadata": {},
   "source": [
    "# <font color = 'gray'>Step 1: Phylogenetic placement</font>\n",
    "\n",
    "This step aligns our representative sequences (OTUs or ASVs) to the sequences in the reference database using HMMER. Afterwards, it runs the phylogenetic placement algorithm (default: EPA-NG) to place the query sequences on the reference phylogenetic tree.\n",
    "\n",
    "If you want to use custom reference files, please refer to this <a href='https://github.com/picrust/picrust2/wiki/Sequence-placement'>page</a>."
   ]
  },
  {
   "cell_type": "code",
   "execution_count": null,
   "metadata": {},
   "outputs": [],
   "source": [
    "!place_seqs.py \\\n",
    "    -s rep_seqs.fa \\\n",
    "    -o picrust2_out/out_tree.tre \\\n",
    "    -p 1 \\\n",
    "    -t sepp \\\n",
    "    --verbose"
   ]
  },
  {
   "cell_type": "markdown",
   "metadata": {},
   "source": [
    "# <font color = 'gray'>Step 2: Predicting Abundances of EC Gene Families</font>\n",
    "\n",
    "This step predicts the abundances of gene families, using Enzyme Commission (EC) system, for each representative sequence with a predicted genome. Alternatively, we could use different pre-calculated count table from the following options: 'EC', '16S', 'COG', 'KO', 'PFAM', 'TIGRFAM', 'PHENO'."
   ]
  },
  {
   "cell_type": "code",
   "execution_count": null,
   "metadata": {},
   "outputs": [],
   "source": [
    "!hsp.py \\\n",
    "    -i EC \\\n",
    "    -t picrust2_out/out_tree.tre \\\n",
    "    -o picrust2_out/out_EC_prediction.tsv \\\n",
    "    --verbose"
   ]
  },
  {
   "cell_type": "markdown",
   "metadata": {},
   "source": [
    "Let's take a peek at the output (`out_EC_prediction.tsv`)"
   ]
  },
  {
   "cell_type": "code",
   "execution_count": null,
   "metadata": {},
   "outputs": [],
   "source": [
    "!head picrust2_out/out_EC_prediction.tsv"
   ]
  },
  {
   "cell_type": "markdown",
   "metadata": {},
   "source": [
    "# <font color = 'gray'>Step 3: Predicting Number of 16S rRNA genes per representative sequence</font>\n",
    "\n",
    "This step calculates nearest-sequenced taxon index (NSTI) and the number of 16S genes per predicted genome. \n",
    "\n",
    "The NSTI quantifies how close your query sequences are to its nearest 16S sequence in the reference database. Small NSTI values yields more accurate predictions while larger NSTI values results to less accurate predictions. By default, NSTI values greater than 2 are omitted from the predictions.\n",
    "\n",
    "The 16S gene counts per predicted genome are used to normalize the abundance of each predicted gene family."
   ]
  },
  {
   "cell_type": "code",
   "execution_count": null,
   "metadata": {},
   "outputs": [],
   "source": [
    "!hsp.py \\\n",
    "    -i 16S \\\n",
    "    -t picrust2_out/out_tree.tre \\\n",
    "    -o picrust2_out/out_16S_NSTI_calc.tsv \\\n",
    "    --calculate_NSTI \\\n",
    "    --verbose"
   ]
  },
  {
   "cell_type": "markdown",
   "metadata": {},
   "source": [
    "Let's take a peek at the output (`out_16S_NSTI_calc.tsv`)"
   ]
  },
  {
   "cell_type": "code",
   "execution_count": null,
   "metadata": {},
   "outputs": [],
   "source": [
    "!head -n 35 picrust2_out/out_16S_NSTI_calc.tsv"
   ]
  },
  {
   "cell_type": "markdown",
   "metadata": {},
   "source": [
    "# <font color = 'gray'>Step 4: Predict metagenome of the samples</font>\n",
    "\n",
    "From the predicted genomes for each of our representative sequences, we can now generate the metagenome of our samples using this step. By using the previously calculated 16S copies per genome, we take into account the fact that a genome can have multiple copies of the said marker gene and so we get better estimate of the abundance of each gene family in our metagenome."
   ]
  },
  {
   "cell_type": "markdown",
   "metadata": {},
   "source": [
    "<h4>Detailed explanation to normalization:</h4>\n",
    "\n",
    "Consider the table below "
   ]
  },
  {
   "cell_type": "markdown",
   "metadata": {},
   "source": [
    "| Representative Sequences in Sample 1 | Abundance of OTU | Number of 16S Genes per Genome | Number of EC 1.1.1.1 per Genome |  Number of EC 1.1.1.2 per Genome |\n",
    "| --- | --- | --- | --- | --- |\n",
    "| OTU1 | 20 | 2 | 5 | 3 |\n",
    "| OTU2 | 35 | 5 | 3 | 6 |\n",
    "| OTU3 | 16 | 4 | 4 | 10 |"
   ]
  },
  {
   "cell_type": "markdown",
   "metadata": {},
   "source": [
    "From the predicted number of 16S genes (generated by Step 3) and the expected number of 16S genes per predicted genome, we can calculate the expected number of genomes for each of our representative sequence."
   ]
  },
  {
   "cell_type": "markdown",
   "metadata": {},
   "source": [
    "| Representative Sequences in Sample 1 | Abundance of OTU | Number of 16S Genes per Genome | Expected Number of Genome | Number of EC 1.1.1.1 per Genome |  Number of EC 1.1.1.2 per Genome |\n",
    "| --- | --- | --- | --- | --- | --- |\n",
    "| OTU1 | 20 | 2 | 20/2 = 10 | 5 | 3 |\n",
    "| OTU2 | 35 | 5 | 35/5 = 7 | 3 | 6 |\n",
    "| OTU3 | 16 | 4 | 16/4 = 4 | 4 | 10 |"
   ]
  },
  {
   "cell_type": "markdown",
   "metadata": {},
   "source": [
    "Finally, we can calculate the number of gene family and generate the functional profile of our metagenome."
   ]
  },
  {
   "cell_type": "markdown",
   "metadata": {},
   "source": [
    "| Representative Sequences in Sample 1 | Abundance of OTU | Number of 16S Genes per Genome | Expected Number of Genome | Number of EC 1.1.1.1 per Genome |  Number of EC 1.1.1.2 per Genome | Total Number of EC 1.1.1.1 | Total Number of EC 1.1.1.2 |\n",
    "| --- | --- | --- | --- | --- | --- | --- | --- |\n",
    "| OTU1 | 20 | 2 | 20/2 = 10 | 5 | 3 | 5x10 = 50 | 3x10 = 30 | \n",
    "| OTU2 | 35 | 5 | 35/5 = 7 | 3 | 6 | 3x5 = 15 | 6x5 = 30 |\n",
    "| OTU3 | 16 | 4 | 16/4 = 4 | 4 | 10 | 4x4 = 16 | 10x4 = 40 |"
   ]
  },
  {
   "cell_type": "markdown",
   "metadata": {},
   "source": [
    "And so, Sample 1 is predicted to have 81 (50+15+16) copies of EC 1.1.1.1 gene family and 110 (30+30+40) copies of EC 1.1.1.2 gene family."
   ]
  },
  {
   "cell_type": "code",
   "execution_count": null,
   "metadata": {},
   "outputs": [],
   "source": [
    "!metagenome_pipeline.py \\\n",
    "    -i feature_table.tsv \\\n",
    "    -m picrust2_out/out_16S_NSTI_calc.tsv \\\n",
    "    -f picrust2_out/out_EC_prediction.tsv \\\n",
    "    -o picrust2_out/out_EC_metagenome \\\n",
    "    --strat_out"
   ]
  },
  {
   "cell_type": "markdown",
   "metadata": {},
   "source": [
    "<b>Output Files:</b>\n",
    "1. `seqtab_norm.tsv.gz` - Representative sequences' feature table that is normalized by the predicted number of 16S genes\n",
    "2. `weighted_nsti.tsv.gz` - Table containing weighted NSTI values for each sample\n",
    "3. `pred_metagenome_unstrat.tsv.gz` - Abundance of each gene family per sample\n",
    "4. `pred_metagenome_contrib.tsv.gz` - Shows calculations somewhat similar to the tables above"
   ]
  },
  {
   "cell_type": "markdown",
   "metadata": {},
   "source": [
    "Let's extract the output files."
   ]
  },
  {
   "cell_type": "code",
   "execution_count": null,
   "metadata": {},
   "outputs": [],
   "source": [
    "!gunzip picrust2_out/out_EC_metagenome/*"
   ]
  },
  {
   "cell_type": "markdown",
   "metadata": {},
   "source": [
    "# <font color = 'gray'>Step 5: Infer pathways</font>\n",
    "\n",
    "PICRUSt2 uses MinPath to map the predicted EC numbers onto MetaCyc reactions which is then used to infer MetaCyc pathways and their abundances."
   ]
  },
  {
   "cell_type": "code",
   "execution_count": null,
   "metadata": {},
   "outputs": [],
   "source": [
    "!pathway_pipeline.py \\\n",
    "    -i picrust2_out/out_EC_metagenome/pred_metagenome_contrib.tsv \\\n",
    "    -o picrust2_out/out_pathways \\"
   ]
  },
  {
   "cell_type": "markdown",
   "metadata": {},
   "source": [
    "<b>Output Files:</b>\n",
    "1. `path_abun_contrib.tsv.gz` - Similar to `pred_metagenome_contrib.tsv.gz` but for pathways\n",
    "2. `path_abun_unstrat.tsv.gz` - Abundance of each pathway per sample"
   ]
  },
  {
   "cell_type": "code",
   "execution_count": null,
   "metadata": {},
   "outputs": [],
   "source": [
    "!gunzip picrust2_out/out_pathways/*"
   ]
  },
  {
   "cell_type": "markdown",
   "metadata": {},
   "source": [
    "# <font color = 'gray'>Step 6: Add descriptions</font>\n",
    "\n",
    "PICRUSt2, by default, outputs only a table with functional IDs presented. To make the table more informative, we could add descriptions regarding these functional IDs so that we do not have to look up each of the functional ID on their respective websites/databases."
   ]
  },
  {
   "cell_type": "code",
   "execution_count": null,
   "metadata": {},
   "outputs": [],
   "source": [
    "!add_descriptions.py \\\n",
    "    -i picrust2_out/out_EC_metagenome/pred_metagenome_unstrat.tsv \\\n",
    "    -m EC \\\n",
    "    -o picrust2_out/out_EC_metagenome/pred_metagenome_unstrat_desc.tsv"
   ]
  },
  {
   "cell_type": "code",
   "execution_count": null,
   "metadata": {},
   "outputs": [],
   "source": [
    "!add_descriptions.py \\\n",
    "    -i picrust2_out/out_pathways/path_abun_unstrat.tsv \\\n",
    "    -m METACYC \\\n",
    "    -o picrust2_out/out_pathways/path_abun_unstrat_desc.tsv"
   ]
  },
  {
   "cell_type": "code",
   "execution_count": null,
   "metadata": {},
   "outputs": [],
   "source": []
  }
 ],
 "metadata": {
  "kernelspec": {
   "display_name": "Python 3",
   "language": "python",
   "name": "python3"
  },
  "language_info": {
   "codemirror_mode": {
    "name": "ipython",
    "version": 3
   },
   "file_extension": ".py",
   "mimetype": "text/x-python",
   "name": "python",
   "nbconvert_exporter": "python",
   "pygments_lexer": "ipython3",
   "version": "3.8.10"
  }
 },
 "nbformat": 4,
 "nbformat_minor": 5
}

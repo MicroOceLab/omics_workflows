{
 "cells": [
  {
   "cell_type": "markdown",
   "id": "497c70f5",
   "metadata": {},
   "source": [
    "<h1>Functional Prediction From Marker Genes With PICRUSt2</h1>"
   ]
  },
  {
   "cell_type": "markdown",
   "id": "b778c1c6",
   "metadata": {},
   "source": [
    "This notebook outlines the steps involved in running the PICRUSt2 functional prediction pipeline. This notebook includes (1) phylogenetic placement of query reads, (2) prediction of function, (3) prediction of number of 16S genes per representative sequence, (4) inferring metagenome, and (5) inferring pathway abundances.\n",
    "\n",
    "Before using PICRUSt2, take note of its limitations as described <a href=\"https://github.com/picrust/picrust2/wiki/Key-Limitations\">here</a>.\n",
    "\n",
    "This workflow was built with the following as the main references: <a href='https://github.com/picrust/picrust2/wiki'>PICRUSt2 GitHub Wiki</a>, and <a href='https://github.com/LangilleLab/microbiome_helper/wiki/CBW-2021-PICRUSt2-Tutorial'>LangilleLab SOP</a> "
   ]
  },
  {
   "cell_type": "markdown",
   "id": "39444162",
   "metadata": {},
   "source": [
    "---\n",
    "\n",
    "## <font color=\"blue\">How to Use This Notebook</font>\n",
    "1. Activate PICRUSt2 conda environment. Make sure to change the environment name to whatever is applicable.\n",
    ">`conda activate picrust2-env`\n",
    "2. Open jupyter notebook and select this notebook.\n",
    ">`jupyter notebook`\n",
    "3. To run the cells, press Shift+Enter"
   ]
  },
  {
   "cell_type": "markdown",
   "id": "54354752",
   "metadata": {},
   "source": [
    "---\n",
    "\n",
    "## Tools Used\n",
    "1. <b>PICRUSt2 v2.4.2</b>"
   ]
  },
  {
   "cell_type": "markdown",
   "id": "c1fd19ac",
   "metadata": {},
   "source": [
    "---\n",
    "\n",
    "## Starting Files\n",
    "1. This Jupyter notebook\n",
    "2. Representative sequences (<font face=\"Consolas\">**asv-sequences.fasta**</font>) and feature table (<font face=\"Consolas\">**asv-table.tsv**</font>). Data produced from the <font face=\"Consolas\">**Amplicon_Denoising_Pipeline.ipynb**</font> notebook will be used for this demonstration.\n",
    "3. Directories for organizing the data. To make the folders and copy the input files, run the following code blocks:"
   ]
  },
  {
   "cell_type": "code",
   "execution_count": null,
   "id": "338f2209",
   "metadata": {},
   "outputs": [],
   "source": [
    "!mkdir picrust2_demo_folder\n",
    "%cd picrust2_demo_folder\n",
    "!mkdir \\\n",
    "0-input-files \\\n",
    "1-output-files"
   ]
  },
  {
   "cell_type": "code",
   "execution_count": null,
   "id": "b462b2e5",
   "metadata": {},
   "outputs": [],
   "source": [
    "!cp ../amplicon_sample_data/picrust2_input_data/feature_table.tsv 0-input-files/feature-table.tsv\n",
    "!cp ../amplicon_sample_data/picrust2_input_data/rep_seqs.fa 0-input-files/rep-seqs.fa"
   ]
  },
  {
   "cell_type": "markdown",
   "id": "a4df1991",
   "metadata": {},
   "source": [
    "---\n",
    "\n",
    "## Acknowledgement\n",
    "Data used in this demonstration were retrieved from the study below.\n",
    "\n",
    "<i>Raes, E. J., Karsh, K., Sow, S. L., Ostrowski, M., Brown, M. V., van de Kamp, J., ... & Waite, A. M. (2021). Metabolic pathways inferred from a bacterial marker gene illuminate ecological changes across South Pacific frontal boundaries. Nature communications, 12(1), 1-12.</i>\n",
    "\n",
    "Data repository:\n",
    "https://zenodo.org/record/4567694#.YhnG6ehBxPZ"
   ]
  },
  {
   "cell_type": "markdown",
   "id": "071b842e",
   "metadata": {},
   "source": [
    "---\n",
    "## Table of Contents\n",
    " * [**Step 1: Phylogenetic placement**](#Step-1:-Phylogenetic-placement)  \n",
    " * [**Step 2: Hidden-state prediction**](#Step-2:-Hidden-state-prediction)  \n",
    " * [**Step 3: Predicting Number of 16S rRNA genes per representative sequence**](#Step-3:-Predicting-Number-of-16S-rRNA-genes-per-representative-sequence)\n",
    " * [**Step 4: Predict metagenome of the samples**](#Step-4:-Predict-metagenome-of-the-samples)\n",
    " * [**Step 5: Infer pathways**](#Step-5:-Infer-pathways)  \n",
    " * [**Step 6: Add descriptions**](#Step-6:-Add-descriptions)  \n",
    "---"
   ]
  },
  {
   "cell_type": "markdown",
   "id": "5b7b3b3d",
   "metadata": {},
   "source": [
    "# <font color = 'gray'>Step 1: Phylogenetic placement</font>\n",
    "\n",
    "This step aligns our representative sequences (OTUs or ASVs) to the sequences in the reference database using HMMER. Afterwards, it runs the phylogenetic placement algorithm (default: EPA-NG) to place the query sequences on the reference phylogenetic tree.\n",
    "\n",
    "If you want to use custom reference files, please refer to this <a href='https://github.com/picrust/picrust2/wiki/Sequence-placement'>page</a>.\n",
    "\n",
    "<font color=\"Red\">Note: This step may use a lot of your RAM. If this fails on your attempt, you can copy the relevant file inside the <font face=\"Consolas\">**amplicon_sample_data/output_data/picrust2**</font> folder.</font>"
   ]
  },
  {
   "cell_type": "code",
   "execution_count": null,
   "id": "7d53fcff",
   "metadata": {},
   "outputs": [],
   "source": [
    "!place_seqs.py \\\n",
    "    -s 0-input-files/rep-seqs.fa \\\n",
    "    -o 1-output-files/1-out_tree.tre \\\n",
    "    -p 1"
   ]
  },
  {
   "cell_type": "markdown",
   "id": "4805b68b",
   "metadata": {},
   "source": [
    "# <font color = 'gray'>Step 2: Hidden-state prediction</font>\n",
    "\n",
    "This step predicts the abundances of gene families, using Enzyme Commission (EC) system, for each representative sequence with a predicted genome. Alternatively, we could use different pre-calculated count table from the following options: 'EC', '16S', 'COG', 'KO', 'PFAM', 'TIGRFAM', 'PHENO'."
   ]
  },
  {
   "cell_type": "code",
   "execution_count": null,
   "id": "cb42375c",
   "metadata": {},
   "outputs": [],
   "source": [
    "!hsp.py \\\n",
    "    -i EC \\\n",
    "    -t 1-output-files/1-out_tree.tre \\\n",
    "    -o 1-output-files/2-out_EC_prediction.tsv"
   ]
  },
  {
   "cell_type": "markdown",
   "id": "bad77f74",
   "metadata": {},
   "source": [
    "Let's take a peek at a subset of the output (`out_EC_prediction.tsv`). From this table, we can see the prediceted abundances of each EC group for each representative sequence.\n",
    "\n",
    "<font color=\"red\">Note: If the displays of the tables here in Jupyter notebook are quite messy, you can view them in MS Excel or similar softwares instead.</font>"
   ]
  },
  {
   "cell_type": "code",
   "execution_count": null,
   "id": "9fea31cb",
   "metadata": {},
   "outputs": [],
   "source": [
    "!cut -d '\t' -f1-5 1-output-files/2-out_EC_prediction.tsv | head -n 10 | column -t"
   ]
  },
  {
   "cell_type": "markdown",
   "id": "bb34bcb1",
   "metadata": {},
   "source": [
    "# <font color = 'gray'>Step 3: Predicting Number of 16S rRNA genes per representative sequence</font>\n",
    "\n",
    "This step calculates nearest-sequenced taxon index (NSTI) and the number of 16S genes per predicted genome. \n",
    "\n",
    "The NSTI quantifies how close your query sequences are to its nearest 16S sequence in the reference database. Small NSTI values yields more accurate predictions while larger NSTI values result to less accurate predictions. By default, NSTI values greater than 2 are omitted from the predictions.\n",
    "\n",
    "The 16S gene counts per predicted genome are used to normalize the abundance of each predicted gene."
   ]
  },
  {
   "cell_type": "code",
   "execution_count": null,
   "id": "3617000a",
   "metadata": {},
   "outputs": [],
   "source": [
    "!hsp.py \\\n",
    "    -i 16S \\\n",
    "    -t 1-output-files/1-out_tree.tre \\\n",
    "    -o 1-output-files/3-out_16S_NSTI_calc.tsv \\\n",
    "    --calculate_NSTI"
   ]
  },
  {
   "cell_type": "markdown",
   "id": "04794a6c",
   "metadata": {},
   "source": [
    "Let's take a peek at a subset of the output (`out_16S_NSTI_calc.tsv`). This time, the table shows the predicted number of 16S genes for every genome that is associated with the representative sequence. Additionally, it also displays the NSTI values."
   ]
  },
  {
   "cell_type": "code",
   "execution_count": null,
   "id": "f5c409ef",
   "metadata": {},
   "outputs": [],
   "source": [
    "!cut -d '\t' -f1-5 1-output-files/3-out_16S_NSTI_calc.tsv | head -n 10 | column -t"
   ]
  },
  {
   "cell_type": "markdown",
   "id": "ce5e5ea8",
   "metadata": {},
   "source": [
    "# <font color = 'gray'>Step 4: Predict metagenome of the samples</font>\n",
    "\n",
    "From the predicted genomes for each of our representative sequences, we can now generate the metagenome of our samples using this step. By using the previously calculated 16S copies per genome, we take into account the fact that a genome can have multiple copies of the said marker gene and so we get better estimate of the abundance of each gene family in our metagenome."
   ]
  },
  {
   "cell_type": "markdown",
   "id": "16c09414",
   "metadata": {},
   "source": [
    "<h4>Detailed explanation to normalization:</h4>\n",
    "\n",
    "Consider the table below "
   ]
  },
  {
   "cell_type": "markdown",
   "id": "2f4573f2",
   "metadata": {},
   "source": [
    "| Representative Sequences in Sample 1 | Predicted Number of 16S Genes | Number of 16S Genes per Genome | Number of EC 1.1.1.1 per Genome |  Number of EC 1.1.1.2 per Genome |\n",
    "| --- | --- | --- | --- | --- |\n",
    "| OTU1 | 20 | 2 | 5 | 3 |\n",
    "| OTU2 | 35 | 5 | 3 | 6 |\n",
    "| OTU3 | 16 | 4 | 4 | 10 |"
   ]
  },
  {
   "cell_type": "markdown",
   "id": "d0f79d29",
   "metadata": {},
   "source": [
    "From the predicted number of 16S genes (generated by Step 3) and the expected number of 16S genes per predicted genome, we can calculate the expected number of genomes for each of our representative sequence."
   ]
  },
  {
   "cell_type": "markdown",
   "id": "0beef067",
   "metadata": {},
   "source": [
    "| Representative Sequences in Sample 1 | Predicted Number of 16S Genes | Number of 16S Genes per Genome | Expected Number of Genome | Number of EC 1.1.1.1 per Genome |  Number of EC 1.1.1.2 per Genome |\n",
    "| --- | --- | --- | --- | --- | --- |\n",
    "| OTU1 | 20 | 2 | 20/2 = 10 | 5 | 3 |\n",
    "| OTU2 | 35 | 5 | 35/5 = 7 | 3 | 6 |\n",
    "| OTU3 | 16 | 4 | 16/4 = 4 | 4 | 10 |"
   ]
  },
  {
   "cell_type": "markdown",
   "id": "1459eca2",
   "metadata": {},
   "source": [
    "Finally, we can calculate the number of gene family and generate the functional profile of our metagenome."
   ]
  },
  {
   "cell_type": "markdown",
   "id": "b7a326ad",
   "metadata": {},
   "source": [
    "| Representative Sequences in Sample 1 | Predicted Number of 16S Genes | Number of 16S Genes per Genome | Expected Number of Genome | Number of EC 1.1.1.1 per Genome |  Number of EC 1.1.1.2 per Genome | Total Number of EC 1.1.1.1 | Total Number of EC 1.1.1.2 |\n",
    "| --- | --- | --- | --- | --- | --- | --- | --- |\n",
    "| OTU1 | 20 | 2 | 20/2 = 10 | 5 | 3 | 5x10 = 50 | 3x10 = 30 | \n",
    "| OTU2 | 35 | 5 | 35/5 = 7 | 3 | 6 | 3x5 = 15 | 6x5 = 30 |\n",
    "| OTU3 | 16 | 4 | 16/4 = 4 | 4 | 10 | 4x4 = 16 | 10x4 = 40 |"
   ]
  },
  {
   "cell_type": "markdown",
   "id": "804ba86f",
   "metadata": {},
   "source": [
    "And so, Sample 1 is predicted to have 81 (50+15+16) copies of EC 1.1.1.1 and 110 (30+30+40) copies of EC 1.1.1.2"
   ]
  },
  {
   "cell_type": "code",
   "execution_count": null,
   "id": "f89c4b4f",
   "metadata": {},
   "outputs": [],
   "source": [
    "!metagenome_pipeline.py \\\n",
    "    -i 0-input-files/feature-table.tsv \\\n",
    "    -m 1-output-files/3-out_16S_NSTI_calc.tsv \\\n",
    "    -f 1-output-files/2-out_EC_prediction.tsv \\\n",
    "    -o 1-output-files/4-out_EC_metagenome \\\n",
    "    --strat_out"
   ]
  },
  {
   "cell_type": "markdown",
   "id": "b293b1fb",
   "metadata": {},
   "source": [
    "<b>Output Files:</b>\n",
    "1. `seqtab_norm.tsv.gz` - Representative sequences' feature table that is normalized by the predicted number of 16S genes\n",
    "2. `weighted_nsti.tsv.gz` - Table containing weighted NSTI values for each sample\n",
    "3. `pred_metagenome_unstrat.tsv.gz` - Abundance of each gene family per sample\n",
    "4. `pred_metagenome_contrib.tsv.gz` - Shows calculations somewhat similar to the tables above"
   ]
  },
  {
   "cell_type": "code",
   "execution_count": null,
   "id": "8413e803",
   "metadata": {},
   "outputs": [],
   "source": [
    "#Unzip the output file of Step 4\n",
    "!gunzip 1-output-files/4-out_EC_metagenome/*"
   ]
  },
  {
   "cell_type": "markdown",
   "id": "17d7aada",
   "metadata": {},
   "source": [
    "Let's take a peek at one of the outputs (`pred_metagenome_contrib.tsv`). This table shows the predicted abundance of each EC group contributed by each representative sequence in each sample."
   ]
  },
  {
   "cell_type": "code",
   "execution_count": null,
   "id": "aa55c19b",
   "metadata": {},
   "outputs": [],
   "source": [
    "!cut -d '\t' -f1-8 1-output-files/4-out_EC_metagenome/pred_metagenome_contrib.tsv | head -n 10 | column -t"
   ]
  },
  {
   "cell_type": "markdown",
   "id": "aeaab44d",
   "metadata": {},
   "source": [
    "Meanwhile, the table below summarizes the predicted total abundance of each EC group per sample. You could use this table to compare which function(s) are elevated/depressed between samples."
   ]
  },
  {
   "cell_type": "code",
   "execution_count": null,
   "id": "15bbc9c3",
   "metadata": {},
   "outputs": [],
   "source": [
    "!cut -d '\t' -f1-11 1-output-files/4-out_EC_metagenome/pred_metagenome_unstrat.tsv | head -n 10 | column -t"
   ]
  },
  {
   "cell_type": "markdown",
   "id": "f1a42d84",
   "metadata": {},
   "source": [
    "# <font color = 'gray'>Step 5: Infer pathways</font>\n",
    "\n",
    "PICRUSt2 uses MinPath to map the predicted EC numbers onto MetaCyc reactions which is then used to infer MetaCyc pathways and their abundances."
   ]
  },
  {
   "cell_type": "code",
   "execution_count": null,
   "id": "0148ef1b",
   "metadata": {},
   "outputs": [],
   "source": [
    "!pathway_pipeline.py \\\n",
    "    -i 1-output-files/4-out_EC_metagenome/pred_metagenome_contrib.tsv \\\n",
    "    -o 1-output-files/5-out_pathways"
   ]
  },
  {
   "cell_type": "code",
   "execution_count": null,
   "id": "20ddbdbb",
   "metadata": {},
   "outputs": [],
   "source": [
    "#Unzip the output file of Step 5\n",
    "!gunzip 1-output-files/5-out_pathways/*"
   ]
  },
  {
   "cell_type": "markdown",
   "id": "681f4e83",
   "metadata": {},
   "source": [
    "The outputs of Step 5 are similar to Step 4. However, instead of the abundances of EC groups, the predicted pathway abundances are now the ones displayed."
   ]
  },
  {
   "cell_type": "code",
   "execution_count": null,
   "id": "b768a2d8",
   "metadata": {},
   "outputs": [],
   "source": [
    "#Check path_abun_contrib.tsv\n",
    "!cut -d '\t' -f1-8 1-output-files/5-out_pathways/path_abun_contrib.tsv | head -n 10 | column -t"
   ]
  },
  {
   "cell_type": "code",
   "execution_count": null,
   "id": "21243f9b",
   "metadata": {},
   "outputs": [],
   "source": [
    "#Check path_abun_unstrat.tsv\n",
    "!cut -d '\t' -f1-11 1-output-files/5-out_pathways/path_abun_unstrat.tsv | head -n 10 | column -t"
   ]
  },
  {
   "cell_type": "markdown",
   "id": "88af6d95",
   "metadata": {},
   "source": [
    "# <font color = 'gray'>Step 6: Add descriptions</font>\n",
    "\n",
    "PICRUSt2, by default, outputs only a table with functional IDs presented. To make the table more informative, we could add descriptions of these functional IDs so that we do not have to look up each of the functional ID on their respective websites/databases."
   ]
  },
  {
   "cell_type": "code",
   "execution_count": null,
   "id": "ad9b5995",
   "metadata": {},
   "outputs": [],
   "source": [
    "!add_descriptions.py \\\n",
    "    -i 1-output-files/4-out_EC_metagenome/pred_metagenome_unstrat.tsv \\\n",
    "    -m EC \\\n",
    "    -o 1-output-files/4-out_EC_metagenome/pred_metagenome_unstrat_desc.tsv"
   ]
  },
  {
   "cell_type": "code",
   "execution_count": null,
   "id": "f18282c4",
   "metadata": {},
   "outputs": [],
   "source": [
    "!add_descriptions.py \\\n",
    "    -i 1-output-files/5-out_pathways/path_abun_unstrat.tsv \\\n",
    "    -m METACYC \\\n",
    "    -o 1-output-files/5-out_pathways/path_abun_unstrat_desc.tsv"
   ]
  },
  {
   "cell_type": "code",
   "execution_count": null,
   "id": "80b30791",
   "metadata": {},
   "outputs": [],
   "source": []
  }
 ],
 "metadata": {
  "kernelspec": {
   "display_name": "Python 3",
   "language": "python",
   "name": "python3"
  },
  "language_info": {
   "codemirror_mode": {
    "name": "ipython",
    "version": 3
   },
   "file_extension": ".py",
   "mimetype": "text/x-python",
   "name": "python",
   "nbconvert_exporter": "python",
   "pygments_lexer": "ipython3",
   "version": "3.8.8"
  }
 },
 "nbformat": 4,
 "nbformat_minor": 5
}

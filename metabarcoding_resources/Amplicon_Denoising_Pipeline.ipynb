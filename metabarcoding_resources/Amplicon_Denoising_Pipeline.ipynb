{
 "cells": [
  {
   "cell_type": "markdown",
   "id": "adf2298f",
   "metadata": {},
   "source": [
    "<h1>QIIME2 Workflow for DADA2 Denoising</h1>\n",
    "\n",
    "This notebook is a guide on working with QIIME2 with raw paired-end demultiplexed reads as the starting dataset. This notebook includes quality checking of raw reads, primer trimming, denoising, and taxonomic assignment.\n",
    "\n",
    "This workflow was built with the following as the main references: <a href = 'https://github.com/LangilleLab/microbiome_helper/wiki/Amplicon-SOP-v2-(qiime2-2020.8)'>LangilleLab SOP</a>, <a href = 'https://docs.qiime2.org/2021.2/tutorials/moving-pictures/'>\"Moving pictures\" Tutorial</a>, and <a href = 'https://docs.qiime2.org/2021.2/tutorials/atacama-soils/'>\"Atacama soil microbiome\" tutorial</a>."
   ]
  },
  {
   "cell_type": "markdown",
   "id": "6a9b8e94",
   "metadata": {},
   "source": [
    "---\n",
    "\n",
    "<h2><font color ='blue'>How to Use This Notebook</font></h2>\n",
    "\n",
    "1. Activate conda environment in terminal window. Make sure to change the environment name to what is applicable in your case.\n",
    ">`conda activate qiime2-2021.4`\n",
    "2. Open jupyter notebook with the command below and select the notebook.\n",
    ">`jupyter-notebook`\n",
    "3. To run the cells in this notebook, press Shift+Enter."
   ]
  },
  {
   "cell_type": "markdown",
   "id": "4d286cfe",
   "metadata": {},
   "source": [
    "---\n",
    "\n",
    "## Tools Used\n",
    "1. <b>QIIME2 2021.4</b>"
   ]
  },
  {
   "cell_type": "markdown",
   "id": "bc4d73ee",
   "metadata": {},
   "source": [
    "---\n",
    "\n",
    "## Starting Files \n",
    "\n",
    "1. This Jupyter notebook\n",
    "2. Raw amplicon sequencing data files found in the folder <font face=\"Consolas\">**amplicon_sample_data/raw_sequences**</font>\n",
    "3. Naive-bayes classifier and reference sequences found in the folder <font face=\"Consolas\">**classifier**</font>.\n",
    "3. Directories for organizing the data. To make the folders and copy the input files, run the following code blocks:"
   ]
  },
  {
   "cell_type": "code",
   "execution_count": null,
   "id": "6c814698",
   "metadata": {},
   "outputs": [],
   "source": [
    "!mkdir denoising_demo_folder\n",
    "%cd denoising_demo_folder\n",
    "!mkdir \\\n",
    "0-raw-sequences \\\n",
    "1-cleanup \\\n",
    "2-tax-assign"
   ]
  },
  {
   "cell_type": "markdown",
   "id": "a8f479d8",
   "metadata": {},
   "source": [
    "---\n",
    "## Acknowledgement\n",
    "The data used for this demonstration are from 8 samples collected and sequenced by <a href=\"https://www.researchgate.net/publication/345988236_Diversity_of_Marine_Eukaryotic_Picophytoplankton_Communities_with_Emphasis_on_Mamiellophyceae_in_Northwestern_Philippines\">dela Peña et al. (2021)</a>:\n",
    "\n",
    "<i>Dela Peña, L. B. R. O., Tejada, A. J. P., Quijano, J. B., Alonzo, K. H., Gernato, E. G., Caril, A., ... & Onda, D. F. L. (2021). Diversity of Marine Eukaryotic Picophytoplankton Communities with Emphasis on Mamiellophyceae in Northwestern Philippines. Philipp. J. Sci, 150, 27-42.</i>"
   ]
  },
  {
   "cell_type": "markdown",
   "id": "0cae8eb0",
   "metadata": {},
   "source": [
    "---\n",
    "## Table of Contents\n",
    " * [**Step 1: Data Preparation**](#Step-1:-Data-Preparation)  \n",
    "     * [Download data](#Download-data)\n",
    "     * [Making the manifest file](#Making-the-manifest-file)\n",
    "     * [Importing sequences](#Importing-sequences)  \n",
    "     * [Quality checking](#Quality-checking)\n",
    " * [**Step 2: Data Processing**](#Step-2:-Data-Processing)  \n",
    "     * [Trimming primers](#Trim-primers)\n",
    "     * [Denoising](#Denoising-with-DADA2)\n",
    " * [**Step 3: Assigning Taxonomy**](#Step-3:-Assign-Taxonomy)\n",
    "     * [Taxonomy assignment](#Taxonomy-assignment)\n",
    "     * [Exporting ASV tables](#Exporting-ASV-tables)\n",
    "---"
   ]
  },
  {
   "cell_type": "markdown",
   "id": "951a35e1",
   "metadata": {},
   "source": [
    "# <font color = 'gray'>Step 1: Data Preparation</font>"
   ]
  },
  {
   "cell_type": "markdown",
   "id": "5287a126",
   "metadata": {},
   "source": [
    "### Download data\n",
    "\n",
    "The data that will be used for the demonstration of this workflow was taken from the study mentioned in the Acknowledgement section."
   ]
  },
  {
   "cell_type": "code",
   "execution_count": null,
   "id": "d32b530f",
   "metadata": {},
   "outputs": [],
   "source": [
    "!wget -i ../amplicon_sample_data/data-links.txt -P ./0-raw-sequences/"
   ]
  },
  {
   "cell_type": "markdown",
   "id": "aacb141e",
   "metadata": {},
   "source": [
    "### Making the manifest file\n",
    "\n",
    "Before we import our data, we have to make a **manifest file** that contains links to the forward and reverse file paths of each sample."
   ]
  },
  {
   "cell_type": "code",
   "execution_count": null,
   "id": "9f4576b7",
   "metadata": {},
   "outputs": [],
   "source": [
    "import pandas as pd\n",
    "import glob\n",
    "import os\n",
    "\n",
    "sampleIDs, forwardpaths, reversepaths = [],[],[]\n",
    "fpath= os.getcwd()+\"/0-raw-sequences/\"\n",
    "for filepath in (glob.glob(fpath+\"*.gz\")):\n",
    "    sample = filepath.split(\"/\")[-1].rsplit(\"_\", 2)[0]\n",
    "\n",
    "    if sample not in sampleIDs:\n",
    "        sampleIDs.append(sample)\n",
    "    if \"_1.fastq.gz\" in filepath:\n",
    "        forwardpaths.append(filepath)\n",
    "    elif \"_2.fastq.gz\" in filepath:\n",
    "        reversepaths.append(filepath)\n",
    "\n",
    "manifest =  pd.DataFrame({'sampleID': sorted(sampleIDs), 'forward-absolute-filepath': sorted(forwardpaths), 'reverse-absolute-filepath':sorted(reversepaths)} ) \n",
    "with open('manifest.txt', 'w') as m:\n",
    "    print(manifest.to_csv(sep='\\t', index=False, header=True), file=m)"
   ]
  },
  {
   "cell_type": "markdown",
   "id": "6bb7cf66",
   "metadata": {},
   "source": [
    "This <font face=\"Consolas\">**manifest.txt**</font> file will show the sample ID (or SRA Number) and the absolute paths to the forward and reverse reads."
   ]
  },
  {
   "cell_type": "markdown",
   "id": "abe15d5a",
   "metadata": {},
   "source": [
    "\n",
    "### Importing sequences\n",
    "Now that we prepared all the necessary files, we can make our first QIIME command: importing the sequence data."
   ]
  },
  {
   "cell_type": "code",
   "execution_count": null,
   "id": "10ed26f4",
   "metadata": {},
   "outputs": [],
   "source": [
    "# Import the sequences\n",
    "# Insert path to sequence folder after '--input-path'\n",
    "!qiime tools import \\\n",
    "    --type 'SampleData[PairedEndSequencesWithQuality]' \\\n",
    "    --input-path manifest.txt \\\n",
    "    --output-path 0-raw-sequences/seqs.qza \\\n",
    "    --input-format PairedEndFastqManifestPhred33V2"
   ]
  },
  {
   "cell_type": "markdown",
   "id": "c2ae3480",
   "metadata": {},
   "source": [
    "\n",
    "\n",
    "This converts the sequence data into a **QIIME artifact**. Artifacts have the extension '.qza'\n",
    "\n",
    "### Quality checking\n",
    "\n",
    "Our sequences are already *demultiplexed*, meaning they are already separated into different samples. We can use the `demux` plugin instead to visualize our sequences. **QIIME visualizations** have the extension '.qzv'. The .qzv files can be viewed in  http://view.qiime2.org or we can import the `qiime2` module to view the visualizations inline.\n",
    "\n"
   ]
  },
  {
   "cell_type": "code",
   "execution_count": null,
   "id": "ca02ac45",
   "metadata": {},
   "outputs": [],
   "source": [
    "# Make summary of the QIIME2 artifact (.qza file)\n",
    "!qiime demux summarize \\\n",
    "    --i-data 0-raw-sequences/seqs.qza \\\n",
    "    --p-n 100000 \\\n",
    "    --o-visualization 0-raw-sequences/seqs.qzv"
   ]
  },
  {
   "cell_type": "code",
   "execution_count": null,
   "id": "4ee162c0",
   "metadata": {},
   "outputs": [],
   "source": [
    "import qiime2 as q2\n",
    "# Visualize\n",
    "q2.Visualization.load('0-raw-sequences/seqs.qzv')"
   ]
  },
  {
   "cell_type": "markdown",
   "id": "f20361bf",
   "metadata": {},
   "source": [
    "---\n",
    "# <font color = 'gray'>Step 2: Data Processing</font>"
   ]
  },
  {
   "cell_type": "markdown",
   "id": "d877320d",
   "metadata": {},
   "source": [
    "This stage involves the following steps only:\n",
    "1. Trim primers\n",
    "2. Denoising with DADA2\n",
    "\n",
    "The DADA2 workflow wraps read merging, QC, dereplication, and chimera filtering, which is why unlike the OTU clustering workflow, there is no need to specify commands for those steps."
   ]
  },
  {
   "cell_type": "markdown",
   "id": "50eb886f",
   "metadata": {},
   "source": [
    "### Trim primers\n",
    "To remove the primers in our sequences, we use the `cutadapt` plugin. The primers used were E572F/E1009R, which have <b>18bp</b> and <b>20bp</b> lengths, respectively. Removing the primers is important especially if there are ambiguous bases, which might get confused as chimeric or low quality positions. You can explore more about the primer sequences, length, and predicted amplicon size in this excellent app <a href=\"https://app.pr2-primers.org/\">PR-2 Primers</a>."
   ]
  },
  {
   "cell_type": "markdown",
   "id": "753b0ad9",
   "metadata": {},
   "source": [
    "<font color = 'red'>NOTE: Remember to set the primer pair sequences that is applicable in your case in the <font face = 'Consolas'><b>--p-front-f</b></font> and <font face = 'Consolas'><b>--p-front-r</b></font> options."
   ]
  },
  {
   "cell_type": "code",
   "execution_count": null,
   "id": "4c4cc11a",
   "metadata": {},
   "outputs": [],
   "source": [
    "!qiime cutadapt trim-paired \\\n",
    "    --i-demultiplexed-sequences 0-raw-sequences/seqs.qza \\\n",
    "    --p-front-f CYGCGGTAATTCCAGCTC  \\\n",
    "    --p-front-r AYGGTATCTRATCRTCTTYG  \\\n",
    "    --p-error-rate 0 \\\n",
    "    --p-discard-untrimmed \\\n",
    "    --o-trimmed-sequences 1-cleanup/1-primer-trimmed-seqs.qza"
   ]
  },
  {
   "cell_type": "code",
   "execution_count": null,
   "id": "9b1ed822",
   "metadata": {},
   "outputs": [],
   "source": [
    "#Check quality after trimming primers\n",
    "!qiime demux summarize \\\n",
    "    --i-data 1-cleanup/1-primer-trimmed-seqs.qza \\\n",
    "    --p-n 100000 \\\n",
    "    --o-visualization 1-cleanup/1-primer-trimmed-seqs.qzv"
   ]
  },
  {
   "cell_type": "code",
   "execution_count": null,
   "id": "30939e6e",
   "metadata": {},
   "outputs": [],
   "source": [
    "#Visualize\n",
    "import qiime2 as q2\n",
    "q2.Visualization.load('1-cleanup/1-primer-trimmed-seqs.qzv')"
   ]
  },
  {
   "cell_type": "markdown",
   "id": "5c2f8316",
   "metadata": {},
   "source": [
    "### Denoising with DADA2\n",
    "There are two denoising methods available in QIIME2 namely, Deblur and DADA2. For this workflow, the DADA2 denoiser will be used. DADA2 is a pipeline used in inferring amplicon sequence variants (ASVs) from HTS data."
   ]
  },
  {
   "cell_type": "markdown",
   "id": "734cbc77",
   "metadata": {},
   "source": [
    "<font color = 'red'>NOTE: Change the truncation length indicated in the <font face = 'Consolas'><b>--p-trunc-len-f</b></font> (truncation of forward reads starting at the 3' end) and <font face = 'Consolas'><b>--p-trunc-len-r</b></font> (truncation of reverse reads starting at the 3' end) options. You may base this on the quality report of the primer-trimmed sequences."
   ]
  },
  {
   "cell_type": "code",
   "execution_count": null,
   "id": "4af37432",
   "metadata": {},
   "outputs": [],
   "source": [
    "#Denoising with dada2\n",
    "!qiime dada2 denoise-paired \\\n",
    "    --i-demultiplexed-seqs 1-cleanup/1-primer-trimmed-seqs.qza \\\n",
    "    --p-trunc-len-f 258 \\\n",
    "    --p-trunc-len-r 237 \\\n",
    "    --o-table 1-cleanup/2-table-dada2.qza \\\n",
    "    --o-representative-sequences 1-cleanup/2-rep-seqs-dada2.qza \\\n",
    "    --o-denoising-stats 1-cleanup/2-stats-dada2.qza \\\n",
    "    --p-n-threads 0"
   ]
  },
  {
   "cell_type": "code",
   "execution_count": null,
   "id": "8f9abb14",
   "metadata": {},
   "outputs": [],
   "source": [
    "#Creating a visualization file of the denoising stats output\n",
    "!qiime metadata tabulate \\\n",
    "    --m-input-file 1-cleanup/2-stats-dada2.qza \\\n",
    "    --o-visualization 1-cleanup/2-stats-dada2.qzv"
   ]
  },
  {
   "cell_type": "code",
   "execution_count": null,
   "id": "b8c9c774",
   "metadata": {},
   "outputs": [],
   "source": [
    "#Visualize\n",
    "q2.Visualization.load('1-cleanup/2-stats-dada2.qzv')"
   ]
  },
  {
   "cell_type": "code",
   "execution_count": null,
   "id": "824261fe",
   "metadata": {},
   "outputs": [],
   "source": [
    "#Creating a visualization file of the feature table\n",
    "!qiime feature-table summarize \\\n",
    "    --i-table 1-cleanup/2-table-dada2.qza \\\n",
    "    --o-visualization 1-cleanup/2-table-dada2.qzv \\\n",
    "    --m-sample-metadata-file metadata.txt"
   ]
  },
  {
   "cell_type": "code",
   "execution_count": null,
   "id": "ea21701e",
   "metadata": {},
   "outputs": [],
   "source": [
    "#Visualize\n",
    "q2.Visualization.load('1-cleanup/2-table-dada2.qzv')"
   ]
  },
  {
   "cell_type": "code",
   "execution_count": null,
   "id": "52c1ee78",
   "metadata": {},
   "outputs": [],
   "source": [
    "#Creating a visualization file of the ASV sequences\n",
    "!qiime feature-table tabulate-seqs \\\n",
    "    --i-data 1-cleanup/2-rep-seqs-dada2.qza \\\n",
    "    --o-visualization 1-cleanup/2-rep-seqs-dada2.qzv"
   ]
  },
  {
   "cell_type": "code",
   "execution_count": null,
   "id": "832c81a6",
   "metadata": {},
   "outputs": [],
   "source": [
    "#Visualize\n",
    "q2.Visualization.load('1-cleanup/2-rep-seqs-dada2.qzv')"
   ]
  },
  {
   "cell_type": "markdown",
   "id": "61f30db2",
   "metadata": {},
   "source": [
    "---\n",
    "# <font color = 'gray'>Step 3: Assign Taxonomy</font>\n"
   ]
  },
  {
   "cell_type": "markdown",
   "id": "567687b1",
   "metadata": {},
   "source": [
    "### Taxonomy assignment\n",
    "\n",
    "To annotate the metabarcoding data, we use a reference database which will classify the sequences to their taxonomic identities using the plugin `sci-kit learn`. For 18S rRNA eukaryotic data, we will use a curated database, which has been optimized for the specific region targeted by the primers used in this run (18S V4 region). This database was annotated in the Microbial Oceanography Laboratory and features entries from both <a href=\"https://www.arb-silva.de/\">SILVA</a> and <a href=\"http://www.cen.ulaval.ca/nordicanad/dpage.aspx?doi=45409XD-79A199B76BCC4110\">Nordicana</a> databases. Other references for eukaryotic sequences can be used, such as the <a href=\"https://pr2-database.org/\">PR2 database</a> which has high-quality reference sequences curated by other experts."
   ]
  },
  {
   "cell_type": "markdown",
   "id": "e5bf6bda",
   "metadata": {},
   "source": [
    "<font color = 'red'>NOTE: Replace the file specified in the <font face = 'Consolas'><b>--i-classifier</b></font> flag by whichever you will use. "
   ]
  },
  {
   "cell_type": "code",
   "execution_count": null,
   "id": "463b6666",
   "metadata": {},
   "outputs": [],
   "source": [
    "#Using the green genes classifier to assign taxonomies to the ASV sequences\n",
    "!qiime feature-classifier classify-sklearn \\\n",
    "    --i-reads 1-cleanup/2-rep-seqs-dada2.qza \\\n",
    "    --i-classifier ../classifier/silva-138-nord-classifier.2021-4.qza \\\n",
    "    --o-classification 2-tax-assign/1-asv-taxa.qza "
   ]
  },
  {
   "cell_type": "code",
   "execution_count": null,
   "id": "c267acdf",
   "metadata": {},
   "outputs": [],
   "source": [
    "#Tabulate predictions\n",
    "!qiime metadata tabulate \\\n",
    "    --m-input-file 2-tax-assign/1-asv-taxa.qza \\\n",
    "    --o-visualization 2-tax-assign/1-asv-taxa.qzv"
   ]
  },
  {
   "cell_type": "code",
   "execution_count": null,
   "id": "effcce5c",
   "metadata": {},
   "outputs": [],
   "source": [
    "#Visualize\n",
    "q2.Visualization.load('2-tax-assign/1-asv-taxa.qzv')"
   ]
  },
  {
   "cell_type": "markdown",
   "id": "f5811df5",
   "metadata": {},
   "source": [
    "We can view interactive taxonomic barplot to see the composition of each sample.\n",
    "\n",
    "After loading the visualization, select *Level* to 7 to view at the most resolved classification. You can also toggle the orders of the samples based on their metadata."
   ]
  },
  {
   "cell_type": "code",
   "execution_count": null,
   "id": "48291304",
   "metadata": {},
   "outputs": [],
   "source": [
    "#generate a taxa barplot\n",
    "!qiime taxa barplot \\\n",
    "    --i-table 1-cleanup/2-table-dada2.qza \\\n",
    "    --i-taxonomy 2-tax-assign/1-asv-taxa.qza \\\n",
    "    --o-visualization 2-tax-assign/2-bar-plots-asv.qzv"
   ]
  },
  {
   "cell_type": "code",
   "execution_count": null,
   "id": "6c74a68f",
   "metadata": {},
   "outputs": [],
   "source": [
    "#Visualize\n",
    "import qiime2 as q2\n",
    "q2.Visualization.load('2-tax-assign/2-bar-plots-asv.qzv')"
   ]
  },
  {
   "cell_type": "markdown",
   "id": "cd8a17fb",
   "metadata": {},
   "source": [
    "### Exporting ASV tables\n",
    "\n",
    "We can export the OTU tables, taxonomy assignments, and representative sequences in a format we can use in other programs, such as R."
   ]
  },
  {
   "cell_type": "code",
   "execution_count": null,
   "id": "b0db5ece",
   "metadata": {},
   "outputs": [],
   "source": [
    "#Export feature table\n",
    "!qiime tools export --input-path 1-cleanup/2-table-dada2.qza  --output-path exported\n",
    "\n",
    "#Export taxonomy assignments\n",
    "!qiime tools export --input-path 2-tax-assign/1-asv-taxa.qza --output-path exported\n",
    "\n",
    "#Export representative sequences\n",
    "!qiime tools export --input-path 1-cleanup/2-rep-seqs-dada2.qza --output-path exported\n",
    "\n",
    "#Change the first line of biom-taxonomy.tsv (i.e. the header) to this:\n",
    "# #OTUID taxonomy confidence\n",
    "!sed '1c#OTUID\\ttaxonomy\\tconfidence' exported/taxonomy.tsv > exported/biom-taxonomy.tsv"
   ]
  },
  {
   "cell_type": "code",
   "execution_count": null,
   "id": "feb755df",
   "metadata": {},
   "outputs": [],
   "source": [
    "#Add taxonomy header to the feature table\n",
    "!biom add-metadata \\\n",
    "    -i exported/feature-table.biom \\\n",
    "    -o exported/asv-table-with-taxonomy.biom \\\n",
    "    --observation-metadata-fp exported/biom-taxonomy.tsv \\\n",
    "    --sc-separated taxonomy\n",
    "\n",
    "#Convert feature table with taxonomy from .biom to .tsv format\n",
    "!biom convert\\\n",
    "    -i exported/asv-table-with-taxonomy.biom\\\n",
    "    -o exported/asv-feature-table-with-tax.tsv\\\n",
    "    --to-tsv \\\n",
    "    --header-key taxonomy\n",
    "\n",
    "#Convert feature table from .biom to .tsv format\n",
    "!biom convert \\\n",
    "    -i exported/feature-table.biom \\\n",
    "    -o exported/feature-table.tsv \\\n",
    "    --to-tsv"
   ]
  },
  {
   "cell_type": "code",
   "execution_count": null,
   "id": "36f8f12a",
   "metadata": {},
   "outputs": [],
   "source": [
    "import pandas as pd\n",
    "\n",
    "OTUtable = pd.read_csv('exported/asv-feature-table-with-tax.tsv', sep=\"\\t\", header = 1)\n",
    "OTUtable"
   ]
  },
  {
   "cell_type": "code",
   "execution_count": null,
   "id": "2d50d962",
   "metadata": {},
   "outputs": [],
   "source": []
  }
 ],
 "metadata": {
  "kernelspec": {
   "display_name": "Python 3",
   "language": "python",
   "name": "python3"
  },
  "language_info": {
   "codemirror_mode": {
    "name": "ipython",
    "version": 3
   },
   "file_extension": ".py",
   "mimetype": "text/x-python",
   "name": "python",
   "nbconvert_exporter": "python",
   "pygments_lexer": "ipython3",
   "version": "3.8.8"
  }
 },
 "nbformat": 4,
 "nbformat_minor": 5
}

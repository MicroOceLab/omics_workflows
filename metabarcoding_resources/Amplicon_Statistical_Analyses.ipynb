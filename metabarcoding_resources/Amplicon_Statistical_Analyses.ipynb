{
 "cells": [
  {
   "cell_type": "markdown",
   "id": "33849cb3",
   "metadata": {
    "id": "86f34b4e"
   },
   "source": [
    "<h1>QIIME2 Statistical Analyses</h1>\n",
    "\n",
    "This notebook is a guide on doing different analyses within QIIME2 starting with a feature table, feature sequences, and taxonomic assignments. This includes rarefying samples, generating PCoA plots, testing for diversity significance between/among groups, and differential abundance testing.\n",
    "\n",
    "This workflow was built with the following as the main references: <a href = 'https://docs.qiime2.org/2021.2/tutorials/moving-pictures/'>\"Moving pictures\" Tutorial</a>\n",
    "\n",
    "Written for Day 2 of Bioinformatics Workshop by the Microbial Oceanography Laboratory. Credits: LBR dela Peña, BW Hingpit, JB Quijano, D Purganan."
   ]
  },
  {
   "cell_type": "markdown",
   "id": "f27fd71e",
   "metadata": {
    "id": "cb85b0be"
   },
   "source": [
    "---\n",
    "\n",
    "## <font color ='blue'>How to Use This Notebook</font>\n",
    "\n",
    "1. Activate conda environment in terminal window. Make sure to change the environment name to what is applicable in your case.\n",
    ">`conda activate qiime2-2021.4`\n",
    "2. Open jupyter notebook with the command below and select the notebook.\n",
    ">`jupyter-notebook`\n",
    "3. To run the cells in this notebook, press Shift+Enter."
   ]
  },
  {
   "cell_type": "markdown",
   "id": "9ceb47f7",
   "metadata": {},
   "source": [
    "---\n",
    "\n",
    "## Tools Used\n",
    "1. <b>QIIME2 2021.4</b>"
   ]
  },
  {
   "cell_type": "markdown",
   "id": "0800eb7b",
   "metadata": {
    "id": "ebe365ce"
   },
   "source": [
    "---\n",
    "\n",
    "## Starting Files \n",
    "\n",
    "1. This Jupyter notebook \n",
    "2. OTU table and representative sequences generated from <font face=\"Consolas\">**Amplicon_Clustering_Pipeline.ipynb**</font>. These data can be copied from <font face=\"Consolas\">**amplicon_sample_data/otu_table_and_sequences**</font> by running the code block below.\n",
    "3. Data directories. Run the code block below to create the directories."
   ]
  },
  {
   "cell_type": "code",
   "execution_count": null,
   "id": "3b5176fe",
   "metadata": {
    "id": "938c057a"
   },
   "outputs": [],
   "source": [
    "!mkdir stat_analyses_demo_folder\n",
    "%cd stat_analyses_demo_folder\n",
    "!mkdir \\\n",
    "0-feature-table-and-sequences \\\n",
    "1-cleanup \\\n",
    "2-phylogeny \\\n",
    "3-rarefy \\\n",
    "4-diversity \\\n",
    "5-ancom"
   ]
  },
  {
   "cell_type": "code",
   "execution_count": null,
   "id": "71b280a7",
   "metadata": {},
   "outputs": [],
   "source": [
    "!cp ../amplicon_sample_data/otu_table_and_sequences/* 0-feature-table-and-sequences/\n",
    "!cp ../amplicon_sample_data/metadata-day-2.txt ./"
   ]
  },
  {
   "cell_type": "markdown",
   "id": "c97ed5cc",
   "metadata": {
    "id": "2f4af413"
   },
   "source": [
    "---\n",
    "## Table of Contents\n",
    " * [**Filtering feature table and representative sequences**](#Filtering-OTU-table-and-rep-sequences)  \n",
    "     * [Filtering metazoan and fungal sequences](#Filtering-metazoan-and-fungal-sequences)\n",
    "     * [Double-checking](#Double-checking)\n",
    " * [**Alpha Rarefaction**](#Alpha-Rarefaction)  \n",
    "     * [Checking the number of features per sample](#Checking-the-number-of-features-per-sample)\n",
    "     * [Making alpha rarefaction curves](#Making-alpha-rarefaction-curves)\n",
    "     * [Choosing a sampling depth and making a phylogenetic tree](#Choosing-a-sampling-depth-and-making-a-phylogenetic-tree)  \n",
    "     * [Rarefying samples](#Rarefying-samples)\n",
    " * [**PCoA plots and statistical testing**](#PCoA-plots-and-statistical-testing)  \n",
    "     * [Visualizing beta diversity indices](#Visualizing-beta-diversity-indices)\n",
    "     * [Alpha significance testing between/among groups](#Alpha-significance-testing-between/among-groups)\n",
    "     * [Beta significance testing between/among groups](#Beta-significance-testing-between/among-groups)  \n",
    "     * [OTU table with annotation for other stats](#OTU-table-with-annotation-for-other-stats)\n",
    " * [**Differential abundance testing with ANCOM**](#Differential-abundance-testing-with-ANCOM)  \n",
    "---"
   ]
  },
  {
   "cell_type": "markdown",
   "id": "da8ba6e1",
   "metadata": {
    "id": "1c813c40"
   },
   "source": [
    "# <font color = 'gray'>Filtering OTU table and rep sequences</font>"
   ]
  },
  {
   "cell_type": "markdown",
   "id": "2f706af3",
   "metadata": {
    "id": "c6bed6dd"
   },
   "source": [
    "### Filtering metazoan and fungal sequences\n",
    "\n",
    "The `OTU-table.qza` and `OTU-rep-seqs.qza` will be filtered to exclude putative metazoan and fungal sequences.\n",
    "\n",
    "This is done to focus on protists only."
   ]
  },
  {
   "cell_type": "code",
   "execution_count": null,
   "id": "6491a6c8",
   "metadata": {
    "id": "d35cfc0f"
   },
   "outputs": [],
   "source": [
    "# Filtering OTU table\n",
    "!qiime taxa filter-table \\\n",
    "    --i-table 0-feature-table-and-sequences/7-OTU-table.qza \\\n",
    "    --i-taxonomy 0-feature-table-and-sequences/1-OTU-taxa.qza \\\n",
    "    --p-exclude p__Metazoa,p__Fungi,p__Porifera,p__Cnidaria,p__Lophophorata,p__Platyhelminthes \\\n",
    "    --o-filtered-table 1-cleanup/1-otu-table-cleaned.qza \\\n",
    "\n",
    "# Filtering representative sequences\n",
    "!qiime taxa filter-seqs \\\n",
    "    --i-sequences 0-feature-table-and-sequences/7-OTU-rep-seqs.qza \\\n",
    "    --i-taxonomy 0-feature-table-and-sequences/1-OTU-taxa.qza \\\n",
    "    --p-exclude p__Metazoa,p__Fungi,p__Porifera,p__Cnidaria,p__Lophophorata,p__Platyhelminthes \\\n",
    "    --o-filtered-sequences 1-cleanup/1-otu-rep-seqs-cleaned.qza"
   ]
  },
  {
   "cell_type": "markdown",
   "id": "9415c273",
   "metadata": {
    "id": "f9b60026"
   },
   "source": [
    "### Double-checking\n",
    "To double check, taxonomy barplots will be made to see if metazoans are still present in the OTU-table."
   ]
  },
  {
   "cell_type": "code",
   "execution_count": null,
   "id": "2f47fc25",
   "metadata": {
    "id": "da0cb2f1"
   },
   "outputs": [],
   "source": [
    "# Taxonomy barplots\n",
    "!qiime taxa barplot \\\n",
    "    --i-table 1-cleanup/1-otu-table-cleaned.qza \\\n",
    "    --i-taxonomy 0-feature-table-and-sequences/1-OTU-taxa.qza \\\n",
    "    --o-visualization 1-cleanup/1-taxa-barplot-cleaned.qzv\n",
    "\n",
    "#Visualize\n",
    "import qiime2 as q2\n",
    "q2.Visualization.load('1-cleanup/1-taxa-barplot-cleaned.qzv')"
   ]
  },
  {
   "cell_type": "markdown",
   "id": "5868fe3e",
   "metadata": {
    "id": "b9ba2789"
   },
   "source": [
    "# <font color = 'gray'>Alpha Rarefaction</font>"
   ]
  },
  {
   "cell_type": "markdown",
   "id": "ccf72c28",
   "metadata": {
    "id": "e0257c99"
   },
   "source": [
    "### Checking the number of features per sample\n",
    "In this step, the `1-otu-table-cleaned.qza` file will be used to view the alpha rarefaction curves.\n",
    "\n",
    "Alpha rarefaction curves can be used to visualize whether a sample has been sufficiently sequenced to represent its true diversity.\n",
    "\n",
    "To view the rarefaction curves for all the samples, check the number of features/OTUs per sample in the `1-otu-table-cleaned.qza` file. Run the code block below and go to the <i>Interactive Sample Detail</i> tab to check for the sample with the most numerous features/OTUs."
   ]
  },
  {
   "cell_type": "code",
   "execution_count": null,
   "id": "5f21d458",
   "metadata": {
    "id": "7e604541"
   },
   "outputs": [],
   "source": [
    "# Summarize OTU table\n",
    "!qiime feature-table summarize \\\n",
    "    --i-table 1-cleanup/1-otu-table-cleaned.qza \\\n",
    "    --o-visualization 1-cleanup/1-otu-table-cleaned.qzv \\\n",
    "\n",
    "import qiime2 as q2\n",
    "# Visualize\n",
    "q2.Visualization.load('1-cleanup/1-otu-table-cleaned.qzv')"
   ]
  },
  {
   "cell_type": "markdown",
   "id": "31563f89",
   "metadata": {
    "id": "fcdb98fe"
   },
   "source": [
    "### Making alpha rarefaction curves\n",
    "In the <i>Interactive Sample Detail</i>, you can see that the lowest and highest OTU count in a sample is 2329 and 13131, respectively.\n",
    "\n",
    "To clearly view the whole rarefaction curves for all the samples, we will set the maximum depth to around 10000 reads"
   ]
  },
  {
   "cell_type": "code",
   "execution_count": null,
   "id": "a8a18b49",
   "metadata": {
    "id": "06bd7622"
   },
   "outputs": [],
   "source": [
    "!qiime diversity alpha-rarefaction \\\n",
    "    --i-table 1-cleanup/1-otu-table-cleaned.qza \\\n",
    "    --p-max-depth 10000 \\\n",
    "    --p-metrics 'shannon' \\\n",
    "    --o-visualization 3-rarefy/1-otu-table-cleaned_arare.qzv \\\n",
    "\n",
    "# Visualize\n",
    "q2.Visualization.load('3-rarefy/1-otu-table-cleaned_arare.qzv')"
   ]
  },
  {
   "cell_type": "markdown",
   "id": "ad149dc0",
   "metadata": {
    "id": "28e9fa18"
   },
   "source": [
    "### Choosing a sampling depth and making a phylogenetic tree\n",
    "After seeing the rarefaction curves, we will select the sampling depth where we will rarefy the samples. Rarefaction will standardize the number of OTUs to the smallest number or OTUs in a sample which will allow for comparision between sites.\n",
    "\n",
    "NOTE: The smallest number of OTUs in a sample is not always be used as the sampling depth. This decision should be based on the rarefaction curves. If the selected sampling depth is not on the plateaued part of the curve, problems in statistical analyses may arise as the actual diversity for other samples may be reduced.\n",
    "\n",
    "Before rarefying the samples and compute for alpha and beta diversity indices, run the code block below to make a tree file which will be used for phylogeny-based diversity analyses (e.g., Faith's PD and Unifrac)."
   ]
  },
  {
   "cell_type": "code",
   "execution_count": null,
   "id": "7b9c2ebc",
   "metadata": {
    "id": "baa4020a"
   },
   "outputs": [],
   "source": [
    "# Generate a tree for phylogenetic diversity analyses\n",
    "!qiime phylogeny align-to-tree-mafft-fasttree \\\n",
    "    --i-sequences 1-cleanup/1-otu-rep-seqs-cleaned.qza \\\n",
    "    --o-alignment 2-phylogeny/aligned-rep-seqs.qza \\\n",
    "    --o-masked-alignment 2-phylogeny/masked-aligned-rep-seqs.qza \\\n",
    "    --o-tree 2-phylogeny/unrooted-tree.qza \\\n",
    "    --o-rooted-tree 2-phylogeny/rooted-tree.qza"
   ]
  },
  {
   "cell_type": "markdown",
   "id": "b06aec03",
   "metadata": {
    "id": "e45d57b6"
   },
   "source": [
    "### Rarefying samples\n",
    "As the rarefaction curves for the samples seem to have plateau-ed in the smallest number of OTUs (i.e., 2329), sampling depth will be set to this number."
   ]
  },
  {
   "cell_type": "code",
   "execution_count": null,
   "id": "4a9f0c6e",
   "metadata": {
    "id": "fff6e016"
   },
   "outputs": [],
   "source": [
    "# Alpha and Beta Diversity Analyses\n",
    "!qiime diversity core-metrics-phylogenetic \\\n",
    "    --i-phylogeny 2-phylogeny/rooted-tree.qza \\\n",
    "    --i-table 1-cleanup/1-otu-table-cleaned.qza \\\n",
    "    --p-sampling-depth 2329 \\\n",
    "    --m-metadata-file metadata-day-2.txt \\\n",
    "    --output-dir 4-diversity/1-core-metrics-results"
   ]
  },
  {
   "cell_type": "markdown",
   "id": "949a5e8a",
   "metadata": {
    "id": "1954ff01"
   },
   "source": [
    "---\n",
    "# <font color = 'gray'>PCoA plots and statistical testing</font>"
   ]
  },
  {
   "cell_type": "markdown",
   "id": "9789f805",
   "metadata": {
    "id": "1f5d7281"
   },
   "source": [
    "### Visualizing beta diversity indices\n",
    "After looking for the discontinuity of data using hierarchical clustering, grouping of sites will then be viewed in a multidimensional space.\n",
    "\n",
    "Run the code blocks below to view the PCoA plot of each beta diversity metric. You can select a <i>color category</i> for any metadata column, for example, the cluster category, to see if any data points group together."
   ]
  },
  {
   "cell_type": "code",
   "execution_count": null,
   "id": "f6110884",
   "metadata": {
    "id": "949ceb19"
   },
   "outputs": [],
   "source": [
    "# Jaccard distance\n",
    "q2.Visualization.load('4-diversity/1-core-metrics-results/jaccard_emperor.qzv')"
   ]
  },
  {
   "cell_type": "code",
   "execution_count": null,
   "id": "075948a9",
   "metadata": {
    "id": "0ef6be4c"
   },
   "outputs": [],
   "source": [
    "# Bray-Curtis dissimilarity\n",
    "q2.Visualization.load('4-diversity/1-core-metrics-results/bray_curtis_emperor.qzv')"
   ]
  },
  {
   "cell_type": "code",
   "execution_count": null,
   "id": "aa3a94c4",
   "metadata": {
    "id": "e458ff4e"
   },
   "outputs": [],
   "source": [
    "# Unweighted Unifrac\n",
    "q2.Visualization.load('4-diversity/1-core-metrics-results/unweighted_unifrac_emperor.qzv')"
   ]
  },
  {
   "cell_type": "code",
   "execution_count": null,
   "id": "9433a2e3",
   "metadata": {
    "id": "d621115e"
   },
   "outputs": [],
   "source": [
    "# Weighted Unifrac\n",
    "q2.Visualization.load('4-diversity/1-core-metrics-results/weighted_unifrac_emperor.qzv')"
   ]
  },
  {
   "cell_type": "markdown",
   "id": "32e50801",
   "metadata": {
    "id": "2fd9c19d"
   },
   "source": [
    "### Alpha significance testing between/among groups\n",
    "After visualizing in a multidimensional space and deciding on clusters, significance testing of the groups based on their alpha diversity will be done. This is explored to check if a cluster of sites is significantly more diverse than the other.\n",
    "\n",
    "Run the code blocks below to test for significance and view the results."
   ]
  },
  {
   "cell_type": "code",
   "execution_count": null,
   "id": "62d2b69b",
   "metadata": {
    "id": "a7c8436d"
   },
   "outputs": [],
   "source": [
    "# Shannon\n",
    "!qiime diversity alpha-group-significance \\\n",
    "  --i-alpha-diversity 4-diversity/1-core-metrics-results/shannon_vector.qza \\\n",
    "  --m-metadata-file metadata-day-2.txt \\\n",
    "  --o-visualization 4-diversity/2-shannon-group-significance.qzv\n",
    "\n",
    "q2.Visualization.load('4-diversity/2-shannon-group-significance.qzv')"
   ]
  },
  {
   "cell_type": "code",
   "execution_count": null,
   "id": "6333c740",
   "metadata": {
    "id": "128b67f1"
   },
   "outputs": [],
   "source": [
    "# Faith's PD\n",
    "!qiime diversity alpha-group-significance \\\n",
    "  --i-alpha-diversity 4-diversity/1-core-metrics-results/faith_pd_vector.qza \\\n",
    "  --m-metadata-file metadata-day-2.txt \\\n",
    "  --o-visualization 4-diversity/3-faith_pd-group-significance.qzv\n",
    "\n",
    "q2.Visualization.load('4-diversity/3-faith_pd-group-significance.qzv')"
   ]
  },
  {
   "cell_type": "markdown",
   "id": "93e6919c",
   "metadata": {
    "id": "108e9bb0"
   },
   "source": [
    "### Beta significance testing between/among groups\n",
    "Then, significance testing of the groups based on their beta diversity will be examined. This is done to check if there is a significant difference in the composition of communities between/among groups.\n",
    "\n",
    "Run the code blocks below to test for significance and view the results."
   ]
  },
  {
   "cell_type": "code",
   "execution_count": null,
   "id": "4b06d980",
   "metadata": {
    "id": "205d6c60"
   },
   "outputs": [],
   "source": [
    "# Bray-Curtis\n",
    "!qiime diversity beta-group-significance \\\n",
    "  --i-distance-matrix 4-diversity/1-core-metrics-results/bray_curtis_distance_matrix.qza \\\n",
    "  --m-metadata-file metadata-day-2.txt \\\n",
    "  --m-metadata-column cluster \\\n",
    "  --o-visualization 4-diversity/4-bray-curtis-cluster-significance.qzv \\\n",
    "  --p-pairwise\n",
    "\n",
    "q2.Visualization.load('4-diversity/4-bray-curtis-cluster-significance.qzv')"
   ]
  },
  {
   "cell_type": "code",
   "execution_count": null,
   "id": "448b7053",
   "metadata": {
    "id": "f19e38e8"
   },
   "outputs": [],
   "source": [
    "# Unweighted Unifrac\n",
    "!qiime diversity beta-group-significance \\\n",
    "  --i-distance-matrix 4-diversity/1-core-metrics-results/unweighted_unifrac_distance_matrix.qza \\\n",
    "  --m-metadata-file metadata-day-2.txt \\\n",
    "  --m-metadata-column cluster \\\n",
    "  --o-visualization 4-diversity/5-unweighted-unifrac-cluster-significance.qzv \\\n",
    "  --p-pairwise\n",
    "\n",
    "q2.Visualization.load('4-diversity/5-unweighted-unifrac-cluster-significance.qzv')"
   ]
  },
  {
   "cell_type": "markdown",
   "id": "8442e811",
   "metadata": {},
   "source": [
    "---\n",
    "# <font color = 'gray'>Differential abundance testing with ANCOM</font>"
   ]
  },
  {
   "cell_type": "markdown",
   "id": "09746a9e",
   "metadata": {},
   "source": [
    "Differential abundance testing checks for features and/or taxonomic levels that are significantly different between samples or categories of samples."
   ]
  },
  {
   "cell_type": "markdown",
   "id": "42b2cbb1",
   "metadata": {},
   "source": [
    "### Find differentially abundant features"
   ]
  },
  {
   "cell_type": "markdown",
   "id": "972393ef",
   "metadata": {},
   "source": [
    "ANCOM requires a <i>FeatureData[Composition]</i> as the input artifact. To convert our OTU table to the mentioned artifact type, we should run the code block below first."
   ]
  },
  {
   "cell_type": "code",
   "execution_count": null,
   "id": "6aca05e6",
   "metadata": {},
   "outputs": [],
   "source": [
    "!qiime composition add-pseudocount \\\n",
    "    --i-table 1-cleanup/1-otu-table-cleaned.qza \\\n",
    "    --o-composition-table 5-ancom/1-otu-table-add-psdcnt.qza"
   ]
  },
  {
   "cell_type": "markdown",
   "id": "a025b659",
   "metadata": {},
   "source": [
    "Run the code block below to see which feature are significantly different between samples grouped according cluster metadata category."
   ]
  },
  {
   "cell_type": "code",
   "execution_count": null,
   "id": "6fd75a13",
   "metadata": {},
   "outputs": [],
   "source": [
    "!qiime composition ancom \\\n",
    "    --i-table 5-ancom/1-otu-table-add-psdcnt.qza \\\n",
    "    --m-metadata-file metadata-day-2.txt \\\n",
    "    --m-metadata-column cluster \\\n",
    "    --o-visualization 5-ancom/2-ancom-cluster.qzv"
   ]
  },
  {
   "cell_type": "code",
   "execution_count": null,
   "id": "a79e483f",
   "metadata": {},
   "outputs": [],
   "source": [
    "#Visualize\n",
    "q2.Visualization.load(\"5-ancom/2-ancom-cluster.qzv\")"
   ]
  },
  {
   "cell_type": "markdown",
   "id": "1ee2c346",
   "metadata": {},
   "source": [
    "### Find differentially abundant genus"
   ]
  },
  {
   "cell_type": "markdown",
   "id": "b23c5b6c",
   "metadata": {},
   "source": [
    "We could also compare the differentially abundant features at a specific taxonomic level. To do this, we must first collapse our feature table to the desired taxonomic level (in the example below, taxonomic level 6 (genus) will be used)."
   ]
  },
  {
   "cell_type": "code",
   "execution_count": null,
   "id": "996455e5",
   "metadata": {},
   "outputs": [],
   "source": [
    "# Collapse table\n",
    "!qiime taxa collapse \\\n",
    "    --i-table 1-cleanup/1-otu-table-cleaned.qza \\\n",
    "    --i-taxonomy 0-feature-table-and-sequences/1-OTU-taxa.qza \\\n",
    "    --p-level 6 \\\n",
    "    --o-collapsed-table 5-ancom/3-otu-table-collapsed-lvl6.qza\n",
    "\n",
    "# Add pseudocount\n",
    "!qiime composition add-pseudocount \\\n",
    "    --i-table 5-ancom/3-otu-table-collapsed-lvl6.qza \\\n",
    "    --o-composition-table 5-ancom/3-otu-table-lvl6-add-psdcnt.qza"
   ]
  },
  {
   "cell_type": "markdown",
   "id": "6f6f0cbd",
   "metadata": {},
   "source": [
    "Then we could run differential abundance testing once again to determine which genus are significantly different between samples from different clusters."
   ]
  },
  {
   "cell_type": "code",
   "execution_count": null,
   "id": "dacd6bdf",
   "metadata": {},
   "outputs": [],
   "source": [
    "!qiime composition ancom \\\n",
    "    --i-table 5-ancom/3-otu-table-lvl6-add-psdcnt.qza \\\n",
    "    --m-metadata-file metadata-day-2.txt \\\n",
    "    --m-metadata-column cluster \\\n",
    "    --o-visualization 5-ancom/4-ancom-lvl6-cluster.qzv"
   ]
  },
  {
   "cell_type": "code",
   "execution_count": null,
   "id": "56b56e9b",
   "metadata": {},
   "outputs": [],
   "source": [
    "#Visualize\n",
    "q2.Visualization.load(\"5-ancom/4-ancom-lvl6-cluster.qzv\")"
   ]
  },
  {
   "cell_type": "code",
   "execution_count": null,
   "id": "cf1fc4cf",
   "metadata": {},
   "outputs": [],
   "source": []
  }
 ],
 "metadata": {
  "colab": {
   "name": "Bioinformatics Workshop - Day 2.ipynb",
   "provenance": []
  },
  "kernelspec": {
   "display_name": "Python 3",
   "language": "python",
   "name": "python3"
  },
  "language_info": {
   "codemirror_mode": {
    "name": "ipython",
    "version": 3
   },
   "file_extension": ".py",
   "mimetype": "text/x-python",
   "name": "python",
   "nbconvert_exporter": "python",
   "pygments_lexer": "ipython3",
   "version": "3.8.8"
  }
 },
 "nbformat": 4,
 "nbformat_minor": 5
}
